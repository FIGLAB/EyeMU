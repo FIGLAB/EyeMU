{
 "cells": [
  {
   "cell_type": "code",
   "execution_count": 33,
   "id": "solid-saturday",
   "metadata": {},
   "outputs": [],
   "source": [
    "import pandas as pd\n",
    "import numpy as np\n",
    "from sklearn.ensemble import ExtraTreesClassifier\n",
    "import warnings\n",
    "warnings.filterwarnings('ignore')\n",
    "from sklearn import preprocessing\n",
    "from sklearn.metrics import accuracy_score\n",
    "from sklearn.neural_network import MLPClassifier\n",
    "\n"
   ]
  },
  {
   "cell_type": "code",
   "execution_count": 34,
   "id": "attached-survivor",
   "metadata": {},
   "outputs": [
    {
     "data": {
      "text/html": [
       "<div>\n",
       "<style scoped>\n",
       "    .dataframe tbody tr th:only-of-type {\n",
       "        vertical-align: middle;\n",
       "    }\n",
       "\n",
       "    .dataframe tbody tr th {\n",
       "        vertical-align: top;\n",
       "    }\n",
       "\n",
       "    .dataframe thead th {\n",
       "        text-align: right;\n",
       "    }\n",
       "</style>\n",
       "<table border=\"1\" class=\"dataframe\">\n",
       "  <thead>\n",
       "    <tr style=\"text-align: right;\">\n",
       "      <th></th>\n",
       "      <th>Subject</th>\n",
       "      <th>Set</th>\n",
       "      <th>Gesture Target Name</th>\n",
       "      <th>Gaze Target</th>\n",
       "      <th>Timestamp</th>\n",
       "      <th>Target Gesture</th>\n",
       "      <th>Target Gaze</th>\n",
       "      <th>Detected Gesture</th>\n",
       "      <th>Detected Gaze</th>\n",
       "      <th>Headsize Hist</th>\n",
       "      <th>Embeddings Hist</th>\n",
       "      <th>Gazepreds Hist</th>\n",
       "      <th>Gestpreds Hist</th>\n",
       "      <th>IMU Hist</th>\n",
       "      <th>Face Detection Hist</th>\n",
       "      <th>Grid?</th>\n",
       "      <th>Calib?</th>\n",
       "      <th>Gaze Target XY</th>\n",
       "      <th>Raw Gazepreds Hist</th>\n",
       "    </tr>\n",
       "  </thead>\n",
       "  <tbody>\n",
       "    <tr>\n",
       "      <th>0</th>\n",
       "      <td>0</td>\n",
       "      <td>grid1_results</td>\n",
       "      <td>Left flick</td>\n",
       "      <td>2</td>\n",
       "      <td>1616861680190</td>\n",
       "      <td>3</td>\n",
       "      <td>2</td>\n",
       "      <td>3</td>\n",
       "      <td>2.0</td>\n",
       "      <td>[0.15474085291843467, 0.15339179082189278, 0.1...</td>\n",
       "      <td>[[-0.1815185546875, 0.4033203125, -1.150390505...</td>\n",
       "      <td>[[0.6361377280284799, 0.16515855730109275], [0...</td>\n",
       "      <td>[[0, 0, 0, 0], [0, 0, 0, 0], [0, 0, 0, 0], [0,...</td>\n",
       "      <td>[[[-1.4482886795351362, 0.3025457372458007, -0...</td>\n",
       "      <td>[1, 1, 1, 1, 1, 1, 1, 1, 1, 1, 1, 1, 1, 1, 1, ...</td>\n",
       "      <td>True</td>\n",
       "      <td>False</td>\n",
       "      <td>[0.3333333333333333, 0.375]</td>\n",
       "      <td>[[0.58154296875, 0.5170899033546448], [0.46801...</td>\n",
       "    </tr>\n",
       "  </tbody>\n",
       "</table>\n",
       "</div>"
      ],
      "text/plain": [
       "   Subject            Set Gesture Target Name  Gaze Target      Timestamp  \\\n",
       "0        0  grid1_results          Left flick            2  1616861680190   \n",
       "\n",
       "   Target Gesture  Target Gaze  Detected Gesture  Detected Gaze  \\\n",
       "0               3            2                 3            2.0   \n",
       "\n",
       "                                       Headsize Hist  \\\n",
       "0  [0.15474085291843467, 0.15339179082189278, 0.1...   \n",
       "\n",
       "                                     Embeddings Hist  \\\n",
       "0  [[-0.1815185546875, 0.4033203125, -1.150390505...   \n",
       "\n",
       "                                      Gazepreds Hist  \\\n",
       "0  [[0.6361377280284799, 0.16515855730109275], [0...   \n",
       "\n",
       "                                      Gestpreds Hist  \\\n",
       "0  [[0, 0, 0, 0], [0, 0, 0, 0], [0, 0, 0, 0], [0,...   \n",
       "\n",
       "                                            IMU Hist  \\\n",
       "0  [[[-1.4482886795351362, 0.3025457372458007, -0...   \n",
       "\n",
       "                                 Face Detection Hist  Grid?  Calib?  \\\n",
       "0  [1, 1, 1, 1, 1, 1, 1, 1, 1, 1, 1, 1, 1, 1, 1, ...   True   False   \n",
       "\n",
       "                Gaze Target XY  \\\n",
       "0  [0.3333333333333333, 0.375]   \n",
       "\n",
       "                                  Raw Gazepreds Hist  \n",
       "0  [[0.58154296875, 0.5170899033546448], [0.46801...  "
      ]
     },
     "execution_count": 34,
     "metadata": {},
     "output_type": "execute_result"
    }
   ],
   "source": [
    "origdf = pd.read_pickle(\"./gazeldataraw.pkl\")\n",
    "origdf.head(1)"
   ]
  },
  {
   "cell_type": "code",
   "execution_count": 35,
   "id": "static-procedure",
   "metadata": {},
   "outputs": [],
   "source": [
    "########### Flatten the IMU data from 3x3 to 9x1\n",
    "# IMU is in format: Linear Accelerometer, Angular Accelerometer (both x,y,z), then Gyroscope (alpha, beta, gamma)\n",
    "tmp = origdf['IMU Hist']\n",
    "flatTmp = [np.array(x).reshape((9,-1)) for x in tmp]\n",
    "origdf['IMU Hist'] = flatTmp"
   ]
  },
  {
   "cell_type": "code",
   "execution_count": 70,
   "id": "searching-toyota",
   "metadata": {},
   "outputs": [
    {
     "name": "stdout",
     "output_type": "stream",
     "text": [
      "Data len: 3636\n"
     ]
    }
   ],
   "source": [
    "# Remove first 1.2 sec of the IMU hists to segregate the gaze and gesture parts\n",
    "df = origdf.copy()\n",
    "slowHistLens = np.array([len(x) for x in df['Embeddings Hist']])\n",
    "fastHistLens = np.array([len(x[0]) for x in df['IMU Hist']])\n",
    "conversion = np.divide(fastHistLens, slowHistLens)\n",
    "\n",
    "startInd = 12 #gaze window\n",
    "gestureStarts = (conversion*startInd).astype(int)\n",
    "IMUbystart = list(map(lambda z: [x[z[1]:] for x in z[0]], zip(df['IMU Hist'], gestureStarts)))\n",
    "\n",
    "\n",
    "df['Headsize Hist'] = list(map(lambda x: x[startInd:], df['Headsize Hist']))\n",
    "df['IMU Hist'] = IMUbystart\n",
    "df['Headsize Hist'] = df['Headsize Hist'][[len(x[0]) > 70 for x in df['IMU Hist']]]\n",
    "df['IMU Hist'] = df['IMU Hist'][[len(x[0]) > 70 for x in df['IMU Hist']]]\n",
    "df = df.dropna()\n",
    "\n",
    "print(\"Data len:\", len(df))"
   ]
  },
  {
   "cell_type": "code",
   "execution_count": 37,
   "id": "enabling-worth",
   "metadata": {},
   "outputs": [],
   "source": [
    "# plt.plot([f(x+180,360)-180 for x in df[\"IMU Hist\"][14][8]])\n",
    "# plt.plot(df[\"IMU Hist\"][0][7])"
   ]
  },
  {
   "cell_type": "code",
   "execution_count": 71,
   "id": "favorite-shoot",
   "metadata": {},
   "outputs": [],
   "source": [
    "# function modmod(a, n){ return a - Math.floor(a/n) * n }\n",
    "# a = modmod((a + 180), 360) - 180;\n",
    "# sorted([len(x[0]) for x in df['IMU Hist']])\n",
    "# [f(x+180,360)-180 for x in df[\"IMU Hist\"][0][6]]\n",
    "\n",
    "\n",
    "## Fix angle stuff\n",
    "f = lambda a,n: a - (a//n)*n\n",
    "g = lambda ax: [f(x+180,360)-180 for x in ax]\n",
    "tmp = [x[:6] + [g(x[6]),g(x[7]),g(x[8])] for x in df['IMU Hist']]\n",
    "df['IMU Hist'] = tmp\n",
    "\n",
    "\n",
    "# Add headsize to the IMU hist\n",
    "[df['IMU Hist'].iloc[i].append(x) for i,x in enumerate(df['Headsize Hist'])];"
   ]
  },
  {
   "cell_type": "code",
   "execution_count": 72,
   "id": "billion-lobby",
   "metadata": {},
   "outputs": [],
   "source": [
    "# Feature extraction\n",
    "from sklearn.metrics import confusion_matrix\n",
    "\n",
    "# featFuncs = [np.mean, np.max, np.min, np.std, lambda x: np.max(x)-np.min(x), \\\n",
    "#              lambda x: np.sum(np.abs(x)), lambda x: np.polyfit(x,range(len(x)),2)[0], lambda x: np.polyfit(x,range(len(x)),2)[1]]\n",
    "featFuncs = [np.mean, np.max, np.min, np.std, lambda x: np.max(x)-np.min(x), \\\n",
    "             #np.sum, lambda x: np.sum(np.abs(x)),\n",
    "             lambda x: np.polyfit(range(len(x)),x,1)[0],\n",
    "             lambda x: np.polyfit(range(len(x)),x,2)[0],\n",
    "             lambda x: np.polyfit(range(len(x)),x,2)[1],\n",
    "             lambda x: x[-1]-x[0]]\n",
    "# zero crossing \n",
    "# mean RMS\n",
    "# fit linear regressor\n",
    "\n",
    "featurize9 = lambda y: [[f(x) for f in featFuncs] for x in y]\n",
    "def pullFeet(X):\n",
    "    featureVecs = [featurize9(np.array(x)) for x in X]\n",
    "    flatFeatVecs = np.array([np.array(x).flatten() for x in featureVecs])\n",
    "    return flatFeatVecs\n",
    "\n",
    "def runOnAllButI(df, i):\n",
    "    data = df[df['Subject'] != i]\n",
    "    trainX = data['IMU Hist']\n",
    "    trainY = data['Target Gesture'].to_numpy()\n",
    "\n",
    "    test = df[df['Subject'] == i]\n",
    "    testX = test['IMU Hist']\n",
    "    testY = test['Target Gesture'].to_numpy()\n",
    "\n",
    "    # Remove tilts from the dataset\n",
    "    trainX = trainX[(trainY != 2) & (trainY != 4)]\n",
    "    trainY = trainY[(trainY != 2) & (trainY != 4)]\n",
    "\n",
    "    # Remove tilts from the dataset\n",
    "    testX = testX[(testY != 2) & (testY != 4)]\n",
    "    testY = testY[(testY != 2) & (testY != 4)]    \n",
    "    \n",
    "    feetX = pullFeet(trainX)\n",
    "    \n",
    "    clf = ExtraTreesClassifier(n_estimators=150)\n",
    "    clf.fit(feetX, trainY)\n",
    "    outY = clf.predict(pullFeet(testX))\n",
    "\n",
    "    \n",
    "    acc = accuracy_score(outY, testY)\n",
    "    conf = confusion_matrix(outY,testY)\n",
    "    return acc,conf,(outY, testY)"
   ]
  },
  {
   "cell_type": "code",
   "execution_count": 73,
   "id": "aboriginal-thesaurus",
   "metadata": {},
   "outputs": [
    {
     "name": "stdout",
     "output_type": "stream",
     "text": [
      "Subject: 0 , Accuracy: 0.9965870307167235\n",
      "Subject: 1 , Accuracy: 0.8687943262411347\n",
      "Subject: 2 , Accuracy: 1.0\n",
      "Subject: 3 , Accuracy: 0.9496124031007752\n",
      "Subject: 4 , Accuracy: 1.0\n",
      "Subject: 5 , Accuracy: 0.9929577464788732\n",
      "Subject: 6 , Accuracy: 0.9965986394557823\n",
      "Subject: 7 , Accuracy: 0.9726962457337884\n",
      "Subject: 8 , Accuracy: 0.9891304347826086\n",
      "\n",
      "Averaged: 0.9740418696121874\n"
     ]
    }
   ],
   "source": [
    "accs = []\n",
    "confs = []\n",
    "Ys = []\n",
    "for i in range(9):\n",
    "    acc,conf,Y = runOnAllButI(df, i)\n",
    "    print(\"Subject:\",i,\", Accuracy:\", acc)\n",
    "    accs.append(acc)\n",
    "    confs.append(conf)\n",
    "    Ys.append(Y)\n",
    "\n",
    "print()\n",
    "print(\"Averaged:\", sum(accs)/len(accs))\n",
    "allCMs = sum(confs)"
   ]
  },
  {
   "cell_type": "code",
   "execution_count": 74,
   "id": "great-mobile",
   "metadata": {},
   "outputs": [
    {
     "name": "stdout",
     "output_type": "stream",
     "text": [
      "Std Dev 0.04031248957457418\n"
     ]
    }
   ],
   "source": [
    "print(\"Std Dev\", np.std(accs))"
   ]
  },
  {
   "cell_type": "code",
   "execution_count": 115,
   "id": "suspended-emergency",
   "metadata": {},
   "outputs": [],
   "source": [
    "np.savetxt(\"yea.csv\", normedAllCM, delimiter=\",\")"
   ]
  },
  {
   "cell_type": "code",
   "execution_count": 113,
   "id": "seven-vatican",
   "metadata": {},
   "outputs": [
    {
     "data": {
      "text/plain": [
       "Text(0.5, 1.05, 'GAZEL Gesture Classifier Confusion Matrix')"
      ]
     },
     "execution_count": 113,
     "metadata": {},
     "output_type": "execute_result"
    },
    {
     "data": {
      "image/png": "[encoded data removed]",
      "text/plain": [
       "<Figure size 648x648 with 1 Axes>"
      ]
     },
     "metadata": {
      "needs_background": "light"
     },
     "output_type": "display_data"
    }
   ],
   "source": [
    "import matplotlib.pyplot as plt\n",
    "from matplotlib.pyplot import xticks\n",
    "from sklearn.metrics import confusion_matrix\n",
    "\n",
    "allCMs = sum(confs)\n",
    "denoms = np.sum(allCMs,axis=0)\n",
    "normedAllCM = [x/y for (x,y) in zip(allCMs, denoms)]\n",
    "\n",
    "\n",
    "\n",
    "# gestLabels = [\"Forward flick\", \"Right flick\", \"Right tilt\", \"Left flick\", \"Left tilt\", \"Pull close\", \"Push away\", \"Turn to right\", \"Turn to left\"];\n",
    "# gestLabels = [\"Forward flick\", \"Right flick\", \"Left flick\", \"Pull close\", \"Push away\", \"Turn to right\", \"Turn to left\"];\n",
    "gestLabels = [\"Flick Forward\", \"Flick Right\", \"Flick Left\", \"Pull Close\", \"Push Away\", \"Turn to Right\", \"Turn to Left\"]\n",
    "fig, ax = plt.subplots(figsize=(9,9))\n",
    "# ax.matshow(normedAllCM)\n",
    "ax.matshow(normedAllCM,cmap = \"summer\")\n",
    "ax.set_yticks([0,1,2,3,4,5,6])\n",
    "ax.set_yticklabels(gestLabels, fontsize = 15)\n",
    "\n",
    "ax.set_xticks([0,1,2,3,4,5,6])\n",
    "ax.set_xticklabels(gestLabels, rotation = 15, fontsize = 15)\n",
    "\n",
    "# ax.set_xlabel\n",
    "\n",
    "for (i, j), z in np.ndenumerate(normedAllCM):\n",
    "    ax.text(j, i, '{:0.3f}'.format(z), ha='center', va='center')\n",
    "\n",
    "ax.set_title(\"GAZEL Gesture Classifier Confusion Matrix\", pad=40, fontsize=25)"
   ]
  },
  {
   "cell_type": "code",
   "execution_count": 102,
   "id": "reserved-effort",
   "metadata": {},
   "outputs": [],
   "source": [
    "# np.save(\"confusionmatrix.csv\", allCMs)\n",
    "np.savetxt(\"confusionmatrix.csv\", allCMs,delimiter=\",\")"
   ]
  },
  {
   "cell_type": "code",
   "execution_count": 42,
   "id": "christian-limit",
   "metadata": {},
   "outputs": [],
   "source": [
    "feetX2 = pullFeet(testX)"
   ]
  },
  {
   "cell_type": "code",
   "execution_count": 51,
   "id": "consistent-origin",
   "metadata": {},
   "outputs": [
    {
     "name": "stdout",
     "output_type": "stream",
     "text": [
      "1.5792083740234375\n"
     ]
    }
   ],
   "source": [
    "import random\n",
    "import time\n",
    "\n",
    "acc = 0\n",
    "for i in range(100):\n",
    "    now = time.time()\n",
    "    clf.predict([feetX2[int(random.random()*len(feetX2))]])\n",
    "    acc += (time.time()-now)\n",
    "print(acc)"
   ]
  },
  {
   "cell_type": "code",
   "execution_count": 52,
   "id": "still-italy",
   "metadata": {},
   "outputs": [
    {
     "data": {
      "text/plain": [
       "63.32286583892942"
      ]
     },
     "execution_count": 52,
     "metadata": {},
     "output_type": "execute_result"
    }
   ],
   "source": [
    "1/(acc/100)"
   ]
  },
  {
   "cell_type": "code",
   "execution_count": 22,
   "id": "placed-palmer",
   "metadata": {},
   "outputs": [
    {
     "data": {
      "text/plain": [
       "ExtraTreesClassifier(bootstrap=False, class_weight=None, criterion='gini',\n",
       "                     max_depth=None, max_features='auto', max_leaf_nodes=None,\n",
       "                     min_impurity_decrease=0.0, min_impurity_split=None,\n",
       "                     min_samples_leaf=1, min_samples_split=2,\n",
       "                     min_weight_fraction_leaf=0.0, n_estimators=150,\n",
       "                     n_jobs=None, oob_score=False, random_state=None, verbose=0,\n",
       "                     warm_start=False)"
      ]
     },
     "execution_count": 22,
     "metadata": {},
     "output_type": "execute_result"
    }
   ],
   "source": [
    "data = df[df['Subject'] != i]\n",
    "trainX = data['IMU Hist']\n",
    "trainY = data['Target Gesture'].to_numpy()\n",
    "\n",
    "test = df[df['Subject'] == i]\n",
    "testX = test['IMU Hist']\n",
    "testY = test['Target Gesture'].to_numpy()\n",
    "\n",
    "\n",
    "clf = ExtraTreesClassifier(n_estimators=150)\n",
    "\n",
    "feetX = pullFeet(trainX)\n",
    "clf.fit(feetX, trainY)"
   ]
  },
  {
   "cell_type": "code",
   "execution_count": 32,
   "id": "latest-insulin",
   "metadata": {},
   "outputs": [
    {
     "data": {
      "text/plain": [
       "<BarContainer object of 90 artists>"
      ]
     },
     "execution_count": 32,
     "metadata": {},
     "output_type": "execute_result"
    },
    {
     "data": {
      "image/png": "[encoded data removed]",
      "text/plain": [
       "<Figure size 432x288 with 1 Axes>"
      ]
     },
     "metadata": {
      "needs_background": "light"
     },
     "output_type": "display_data"
    }
   ],
   "source": [
    "# import matplotlib.pyplot as plt\n",
    "plt.bar(range(len(clf.feature_importances_)), clf.feature_importances_)\n",
    "\n",
    "# len(clf.feature_importances_)"
   ]
  },
  {
   "cell_type": "code",
   "execution_count": 25,
   "id": "rotary-mozambique",
   "metadata": {},
   "outputs": [
    {
     "data": {
      "text/plain": [
       "array([[42,  0,  0,  0,  0,  0,  0,  0,  0],\n",
       "       [ 0, 42,  0,  0,  0,  0,  0,  0,  0],\n",
       "       [ 0, 16, 26,  0,  0,  0,  0,  0,  0],\n",
       "       [ 0,  0,  0, 42,  0,  0,  0,  0,  0],\n",
       "       [ 0,  0,  0,  8, 34,  0,  0,  0,  0],\n",
       "       [ 0,  0,  0,  0,  0, 39,  3,  0,  0],\n",
       "       [ 0,  0,  0,  0,  0, 22, 20,  0,  0],\n",
       "       [ 0,  0,  0,  0,  0,  0,  0, 42,  0],\n",
       "       [ 0,  0,  0,  0,  0,  1,  0,  1, 40]])"
      ]
     },
     "execution_count": 25,
     "metadata": {},
     "output_type": "execute_result"
    }
   ],
   "source": [
    "outY, testY = Ys[0]\n",
    "\n",
    "\n",
    "\n",
    "{i:x for i,x in enumerate(gestLabels)}\n",
    "confusion_matrix(testY, outY , labels=[0,1,2,3,4,5,6,7,8])\n"
   ]
  },
  {
   "cell_type": "code",
   "execution_count": 299,
   "id": "christian-serial",
   "metadata": {},
   "outputs": [
    {
     "data": {
      "text/plain": [
       "array([2, 2, 2, 2, 2, 2, 2, 2, 0, 0, 0, 0, 0, 0, 0, 0, 8, 8, 8, 8, 8, 8,\n",
       "       8, 8, 3, 3, 3, 3, 3, 3, 3, 3, 6, 6, 6, 6, 6, 6, 6, 6, 1, 1, 1, 1,\n",
       "       1, 1, 1, 1, 4, 4, 4, 4, 4, 4, 4, 4, 7, 7, 7, 7, 7, 7, 7, 7, 5, 5,\n",
       "       5, 5, 5, 5, 5, 5, 1, 1, 1, 1, 1, 1, 1, 1, 5, 5, 5, 5, 5, 5, 5, 5,\n",
       "       8, 8, 8, 8, 8, 8, 8, 8, 6, 6, 6, 6, 6, 6, 6, 6, 4, 4, 4, 4, 4, 4,\n",
       "       4, 4, 0, 0, 0, 0, 0, 0, 0, 0, 7, 7, 7, 7, 7, 7, 7, 7, 3, 3, 3, 3,\n",
       "       3, 3, 3, 3, 2, 2, 2, 2, 2, 2, 2, 2, 6, 6, 6, 6, 6, 6, 6, 6, 1, 1,\n",
       "       1, 1, 1, 1, 1, 1, 4, 4, 4, 4, 4, 4, 4, 5, 5, 5, 5, 5, 5, 5, 5, 7,\n",
       "       7, 7, 7, 7, 7, 7, 7, 2, 2, 2, 2, 2, 2, 2, 3, 3, 3, 3, 3, 3, 3, 0,\n",
       "       0, 0, 0, 0, 0, 0, 0, 8, 8, 8, 8, 8, 8, 8, 8, 8, 8, 8, 8, 8, 8, 5,\n",
       "       5, 5, 5, 5, 5, 0, 0, 0, 0, 0, 0, 2, 2, 2, 2, 2, 2, 3, 3, 3, 3, 3,\n",
       "       3, 1, 1, 1, 1, 1, 1, 6, 6, 6, 6, 4, 4, 4, 4, 4, 4, 7, 7, 7, 7, 7,\n",
       "       7, 8, 8, 8, 8, 8, 8, 1, 1, 1, 1, 1, 1, 2, 2, 2, 2, 2, 2, 4, 4, 4,\n",
       "       4, 4, 4, 5, 5, 5, 5, 5, 5, 6, 6, 6, 6, 6, 6, 7, 7, 7, 7, 7, 7, 0,\n",
       "       0, 0, 0, 0, 0, 3, 3, 3, 3, 3, 3, 7, 7, 7, 7, 7, 7, 8, 8, 8, 8, 8,\n",
       "       8, 0, 0, 0, 0, 0, 0, 6, 6, 6, 6, 6, 6, 3, 3, 3, 3, 3, 3, 1, 1, 1,\n",
       "       1, 1, 1, 4, 4, 4, 4, 4, 4, 2, 2, 2, 2, 2, 2, 5, 5, 5, 5, 5, 5])"
      ]
     },
     "execution_count": 299,
     "metadata": {},
     "output_type": "execute_result"
    }
   ],
   "source": [
    "testY"
   ]
  },
  {
   "cell_type": "code",
   "execution_count": 268,
   "id": "handmade-thread",
   "metadata": {},
   "outputs": [],
   "source": [
    "# List of classifier models\n",
    "from sklearn.neighbors import KNeighborsClassifier,RadiusNeighborsClassifier\n",
    "from sklearn.linear_model import SGDClassifier,LogisticRegression\n",
    "from sklearn.ensemble import ExtraTreesClassifier, RandomForestClassifier\n",
    "from sklearn.svm import SVC, LinearSVC\n",
    "\n",
    "\n",
    "from sklearn.multioutput import MultiOutputClassifier\n",
    "from sklearn.metrics import classification_report\n",
    "\n",
    "from sklearn.metrics import mean_absolute_error,accuracy_score\n",
    "import scipy\n",
    "mode = scipy.stats.mode\n",
    "\n",
    "import copy\n",
    "dcopy = copy.deepcopy\n",
    "\n",
    "models = [\n",
    "    KNeighborsClassifier(n_neighbors=14),\n",
    "    ExtraTreesClassifier(),\n",
    "    ExtraTreesClassifier(n_estimators=100),\n",
    "    RandomForestClassifier(),\n",
    "    RandomForestClassifier(n_estimators=100),\n",
    "    SGDClassifier(),\n",
    "    LogisticRegression(),\n",
    "    SVC(),\n",
    "    LinearSVC()\n",
    "]\n"
   ]
  },
  {
   "cell_type": "code",
   "execution_count": 271,
   "id": "retired-nightlife",
   "metadata": {},
   "outputs": [
    {
     "name": "stdout",
     "output_type": "stream",
     "text": [
      "KNeighborsClassifier(algorithm='auto', leaf_size=30, metric='minkowski',\n",
      "                     metric_params=None, n_jobs=None, n_neighbors=14, p=2,\n",
      "                     weights='uniform')\n",
      "0.8228882833787466\n",
      "0.8154269972451791\n",
      "\n",
      "ExtraTreesClassifier(bootstrap=False, class_weight=None, criterion='gini',\n",
      "                     max_depth=None, max_features='auto', max_leaf_nodes=None,\n",
      "                     min_impurity_decrease=0.0, min_impurity_split=None,\n",
      "                     min_samples_leaf=1, min_samples_split=2,\n",
      "                     min_weight_fraction_leaf=0.0, n_estimators='warn',\n",
      "                     n_jobs=None, oob_score=False, random_state=None, verbose=0,\n",
      "                     warm_start=False)\n",
      "0.8147138964577657\n",
      "0.8154269972451791\n",
      "\n",
      "ExtraTreesClassifier(bootstrap=False, class_weight=None, criterion='gini',\n",
      "                     max_depth=None, max_features='auto', max_leaf_nodes=None,\n",
      "                     min_impurity_decrease=0.0, min_impurity_split=None,\n",
      "                     min_samples_leaf=1, min_samples_split=2,\n",
      "                     min_weight_fraction_leaf=0.0, n_estimators=100,\n",
      "                     n_jobs=None, oob_score=False, random_state=None, verbose=0,\n",
      "                     warm_start=False)\n",
      "0.8147138964577657\n",
      "0.8154269972451791\n",
      "\n",
      "RandomForestClassifier(bootstrap=True, class_weight=None, criterion='gini',\n",
      "                       max_depth=None, max_features='auto', max_leaf_nodes=None,\n",
      "                       min_impurity_decrease=0.0, min_impurity_split=None,\n",
      "                       min_samples_leaf=1, min_samples_split=2,\n",
      "                       min_weight_fraction_leaf=0.0, n_estimators='warn',\n",
      "                       n_jobs=None, oob_score=False, random_state=None,\n",
      "                       verbose=0, warm_start=False)\n",
      "0.8174386920980926\n",
      "0.8181818181818182\n",
      "\n",
      "RandomForestClassifier(bootstrap=True, class_weight=None, criterion='gini',\n",
      "                       max_depth=None, max_features='auto', max_leaf_nodes=None,\n",
      "                       min_impurity_decrease=0.0, min_impurity_split=None,\n",
      "                       min_samples_leaf=1, min_samples_split=2,\n",
      "                       min_weight_fraction_leaf=0.0, n_estimators=100,\n",
      "                       n_jobs=None, oob_score=False, random_state=None,\n",
      "                       verbose=0, warm_start=False)\n",
      "0.8256130790190735\n",
      "0.8099173553719008\n",
      "\n",
      "SGDClassifier(alpha=0.0001, average=False, class_weight=None,\n",
      "              early_stopping=False, epsilon=0.1, eta0=0.0, fit_intercept=True,\n",
      "              l1_ratio=0.15, learning_rate='optimal', loss='hinge',\n",
      "              max_iter=1000, n_iter_no_change=5, n_jobs=None, penalty='l2',\n",
      "              power_t=0.5, random_state=None, shuffle=True, tol=0.001,\n",
      "              validation_fraction=0.1, verbose=0, warm_start=False)\n",
      "0.8228882833787466\n",
      "0.8099173553719008\n",
      "\n",
      "LogisticRegression(C=1.0, class_weight=None, dual=False, fit_intercept=True,\n",
      "                   intercept_scaling=1, l1_ratio=None, max_iter=100,\n",
      "                   multi_class='warn', n_jobs=None, penalty='l2',\n",
      "                   random_state=None, solver='warn', tol=0.0001, verbose=0,\n",
      "                   warm_start=False)\n",
      "0.8174386920980926\n",
      "0.8236914600550964\n",
      "\n",
      "SVC(C=1.0, cache_size=200, class_weight=None, coef0=0.0,\n",
      "    decision_function_shape='ovr', degree=3, gamma='auto_deprecated',\n",
      "    kernel='rbf', max_iter=-1, probability=False, random_state=None,\n",
      "    shrinking=True, tol=0.001, verbose=False)\n",
      "0.8147138964577657\n",
      "0.8016528925619835\n",
      "\n",
      "LinearSVC(C=1.0, class_weight=None, dual=True, fit_intercept=True,\n",
      "          intercept_scaling=1, loss='squared_hinge', max_iter=1000,\n",
      "          multi_class='ovr', penalty='l2', random_state=None, tol=0.0001,\n",
      "          verbose=0)\n",
      "0.8201634877384196\n",
      "0.7878787878787878\n",
      "\n"
     ]
    }
   ],
   "source": [
    "\n",
    "accsOfGod = []\n",
    "for model in models:\n",
    "    tmp1 = runOnAllButI(df, 1)\n",
    "    tmp2 = runOnAllButI(df, 3)\n",
    "    accsOfGod.append([tmp1, tmp2])\n",
    "    \n",
    "    print(model)\n",
    "    print(tmp1)\n",
    "    print(tmp2)\n",
    "    print()\n",
    "    \n",
    "    "
   ]
  },
  {
   "cell_type": "code",
   "execution_count": 273,
   "id": "sustainable-elimination",
   "metadata": {},
   "outputs": [
    {
     "name": "stdout",
     "output_type": "stream",
     "text": [
      "KNeighborsClassifier(algorithm='auto', leaf_size=30, metric='minkowski',\n",
      "                     metric_params=None, n_jobs=None, n_neighbors=14, p=2,\n",
      "                     weights='uniform')\n",
      "0.8191576403119629\n",
      "\n",
      "ExtraTreesClassifier(bootstrap=False, class_weight=None, criterion='gini',\n",
      "                     max_depth=None, max_features='auto', max_leaf_nodes=None,\n",
      "                     min_impurity_decrease=0.0, min_impurity_split=None,\n",
      "                     min_samples_leaf=1, min_samples_split=2,\n",
      "                     min_weight_fraction_leaf=0.0, n_estimators='warn',\n",
      "                     n_jobs=None, oob_score=False, random_state=None, verbose=0,\n",
      "                     warm_start=False)\n",
      "0.8150704468514725\n",
      "\n",
      "ExtraTreesClassifier(bootstrap=False, class_weight=None, criterion='gini',\n",
      "                     max_depth=None, max_features='auto', max_leaf_nodes=None,\n",
      "                     min_impurity_decrease=0.0, min_impurity_split=None,\n",
      "                     min_samples_leaf=1, min_samples_split=2,\n",
      "                     min_weight_fraction_leaf=0.0, n_estimators=100,\n",
      "                     n_jobs=None, oob_score=False, random_state=None, verbose=0,\n",
      "                     warm_start=False)\n",
      "0.8150704468514725\n",
      "\n",
      "RandomForestClassifier(bootstrap=True, class_weight=None, criterion='gini',\n",
      "                       max_depth=None, max_features='auto', max_leaf_nodes=None,\n",
      "                       min_impurity_decrease=0.0, min_impurity_split=None,\n",
      "                       min_samples_leaf=1, min_samples_split=2,\n",
      "                       min_weight_fraction_leaf=0.0, n_estimators='warn',\n",
      "                       n_jobs=None, oob_score=False, random_state=None,\n",
      "                       verbose=0, warm_start=False)\n",
      "0.8178102551399554\n",
      "\n",
      "RandomForestClassifier(bootstrap=True, class_weight=None, criterion='gini',\n",
      "                       max_depth=None, max_features='auto', max_leaf_nodes=None,\n",
      "                       min_impurity_decrease=0.0, min_impurity_split=None,\n",
      "                       min_samples_leaf=1, min_samples_split=2,\n",
      "                       min_weight_fraction_leaf=0.0, n_estimators=100,\n",
      "                       n_jobs=None, oob_score=False, random_state=None,\n",
      "                       verbose=0, warm_start=False)\n",
      "0.8177652171954872\n",
      "\n",
      "SGDClassifier(alpha=0.0001, average=False, class_weight=None,\n",
      "              early_stopping=False, epsilon=0.1, eta0=0.0, fit_intercept=True,\n",
      "              l1_ratio=0.15, learning_rate='optimal', loss='hinge',\n",
      "              max_iter=1000, n_iter_no_change=5, n_jobs=None, penalty='l2',\n",
      "              power_t=0.5, random_state=None, shuffle=True, tol=0.001,\n",
      "              validation_fraction=0.1, verbose=0, warm_start=False)\n",
      "0.8164028193753237\n",
      "\n",
      "LogisticRegression(C=1.0, class_weight=None, dual=False, fit_intercept=True,\n",
      "                   intercept_scaling=1, l1_ratio=None, max_iter=100,\n",
      "                   multi_class='warn', n_jobs=None, penalty='l2',\n",
      "                   random_state=None, solver='warn', tol=0.0001, verbose=0,\n",
      "                   warm_start=False)\n",
      "0.8205650760765946\n",
      "\n",
      "SVC(C=1.0, cache_size=200, class_weight=None, coef0=0.0,\n",
      "    decision_function_shape='ovr', degree=3, gamma='auto_deprecated',\n",
      "    kernel='rbf', max_iter=-1, probability=False, random_state=None,\n",
      "    shrinking=True, tol=0.001, verbose=False)\n",
      "0.8081833945098746\n",
      "\n",
      "LinearSVC(C=1.0, class_weight=None, dual=True, fit_intercept=True,\n",
      "          intercept_scaling=1, loss='squared_hinge', max_iter=1000,\n",
      "          multi_class='ovr', penalty='l2', random_state=None, tol=0.0001,\n",
      "          verbose=0)\n",
      "0.8040211378086037\n",
      "\n"
     ]
    }
   ],
   "source": [
    "tmp = zip(models,[sum(x)*.5 for x in accsOfGod])\n",
    "for i in tmp:\n",
    "    print(i[0])\n",
    "    print(i[1])\n",
    "    print()"
   ]
  },
  {
   "cell_type": "code",
   "execution_count": 233,
   "id": "verified-boring",
   "metadata": {},
   "outputs": [
    {
     "data": {
      "text/plain": [
       "array([0, 0, 0, ..., 4, 4, 4])"
      ]
     },
     "execution_count": 233,
     "metadata": {},
     "output_type": "execute_result"
    }
   ],
   "source": [
    "outY\n"
   ]
  }
 ],
 "metadata": {
  "kernelspec": {
   "display_name": "gazel",
   "language": "python",
   "name": "gazel"
  },
  "language_info": {
   "codemirror_mode": {
    "name": "ipython",
    "version": 3
   },
   "file_extension": ".py",
   "mimetype": "text/x-python",
   "name": "python",
   "nbconvert_exporter": "python",
   "pygments_lexer": "ipython3",
   "version": "3.6.7"
  }
 },
 "nbformat": 4,
 "nbformat_minor": 5
}
