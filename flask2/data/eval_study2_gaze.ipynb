{
 "cells": [
  {
   "cell_type": "code",
   "execution_count": 1,
   "metadata": {},
   "outputs": [],
   "source": [
    "import pandas as pd\n",
    "import numpy as np\n",
    "from sklearn.ensemble import ExtraTreesRegressor\n",
    "from sklearn.svm import SVR\n",
    "import warnings\n",
    "warnings.filterwarnings('ignore')\n",
    "from sklearn import preprocessing\n",
    "from math import ceil, floor\n",
    "from scipy.spatial import distance"
   ]
  },
  {
   "cell_type": "code",
   "execution_count": 2,
   "metadata": {},
   "outputs": [],
   "source": [
    "def slide_window(A, win_size, stride, padding = None):\n",
    "    '''Collects windows that slides over a one-dimensional array.\n",
    "\n",
    "    If padding is None, the last (rightmost) window is dropped if it\n",
    "    is incomplete, otherwise it is padded with the padding value.\n",
    "    '''\n",
    "    if win_size <= 0:\n",
    "        raise ValueError('Window size must be positive.')\n",
    "    if not (0 < stride <= win_size):\n",
    "        raise ValueError(f'Stride must satisfy 0 < stride <= {win_size}.')\n",
    "    if not A.base is None:\n",
    "        raise ValueError('Views cannot be slided over!')\n",
    "\n",
    "    n_elems = len(A)\n",
    "    if padding is not None:\n",
    "        n_windows = ceil(n_elems / stride)\n",
    "        A = np.pad(A, (0, n_windows * win_size - n_elems),\n",
    "                   constant_values = padding)\n",
    "    else:\n",
    "        n_windows = floor(n_elems / stride)\n",
    "    shape = n_windows, win_size\n",
    "\n",
    "    elem_size = A.strides[-1]\n",
    "    return np.lib.stride_tricks.as_strided(\n",
    "        A, shape = shape,\n",
    "        strides = (elem_size * stride, elem_size),\n",
    "        writeable = False)\n",
    "\n",
    "def window_np_array(X,Y,win_size,win_stride,padding=0):\n",
    "    X_out = []\n",
    "    Y_out = []\n",
    "    for i in range(len(X)):\n",
    "        out_vec = slide_window(np.array(X[i]),win_size,win_stride)\n",
    "        for j in range(len(out_vec)):\n",
    "            X_out.append(out_vec[j])\n",
    "            Y_out.append(Y[i])\n",
    "    return np.array(X_out), np.array(Y_out)"
   ]
  },
  {
   "cell_type": "code",
   "execution_count": 3,
   "metadata": {},
   "outputs": [],
   "source": [
    "df = pd.read_pickle(\"./gazeldata.pkl\")"
   ]
  },
  {
   "cell_type": "code",
   "execution_count": 4,
   "metadata": {},
   "outputs": [],
   "source": [
    "feat = \"Embeddings Hist\"\n",
    "control = \"Subject\""
   ]
  },
  {
   "cell_type": "code",
   "execution_count": 5,
   "metadata": {},
   "outputs": [],
   "source": [
    "df_group = df.groupby([control])[\"Gaze Target XY\",feat]"
   ]
  },
  {
   "cell_type": "code",
   "execution_count": 6,
   "metadata": {},
   "outputs": [],
   "source": [
    "g_id = list(df_group.groups.keys())"
   ]
  },
  {
   "cell_type": "code",
   "execution_count": 23,
   "metadata": {
    "scrolled": true
   },
   "outputs": [
    {
     "name": "stdout",
     "output_type": "stream",
     "text": [
      "1\n",
      "\t X Error 0.5851512293297926 SD 0.39303941004699966\n",
      "\t Y Error 2.463375012325794 SD 1.9106847301074092\n",
      "\t Total Eucilidean Error 2.6111137502385375 SD 1.8433392285654628\n",
      "2\n",
      "\t X Error 0.5518889821441925 SD 0.383981711464237\n",
      "\t Y Error 2.3507555185530875 SD 1.871933928432054\n",
      "\t Total Eucilidean Error 2.493250376659022 SD 1.8071840257880993\n",
      "3\n",
      "\t X Error 0.5187315467093893 SD 0.3762814674137409\n",
      "\t Y Error 2.185742766331993 SD 1.7541237274650732\n",
      "\t Total Eucilidean Error 2.323888019639583 SD 1.6925235963716463\n",
      "4\n",
      "\t X Error 0.488976190157724 SD 0.36187415725025185\n",
      "\t Y Error 2.044100865868727 SD 1.6615608076122708\n",
      "\t Total Eucilidean Error 2.1783973165502166 SD 1.6011771977866678\n",
      "5\n",
      "\t X Error 0.4846662010414216 SD 0.3567255578610415\n",
      "\t Y Error 2.0213771626933124 SD 1.6105270660165807\n",
      "\t Total Eucilidean Error 2.1521627596085007 SD 1.5524538545308073\n",
      "6\n",
      "\t X Error 0.46939469096245884 SD 0.3551139873434418\n",
      "\t Y Error 1.825201174158733 SD 1.465486406744136\n",
      "\t Total Eucilidean Error 1.9586721605199329 SD 1.4103369888140664\n",
      "7\n",
      "\t X Error 0.4658814007350355 SD 0.35320609507921225\n",
      "\t Y Error 1.8269384341935158 SD 1.4342993177637187\n",
      "\t Total Eucilidean Error 1.9569809290280946 SD 1.3809215197987184\n",
      "8\n",
      "\t X Error 0.46439086390575784 SD 0.3532481673766996\n",
      "\t Y Error 1.8050354385312213 SD 1.4214234663074075\n",
      "\t Total Eucilidean Error 1.9354960891694206 SD 1.3685377729412396\n",
      "9\n",
      "\t X Error 0.45859708913488556 SD 0.35388514522500913\n",
      "\t Y Error 1.7775539453701916 SD 1.3906494104954321\n",
      "\t Total Eucilidean Error 1.907401425143853 SD 1.338271123930253\n",
      "10\n",
      "\t X Error 0.4518775862286495 SD 0.34876164367656837\n",
      "\t Y Error 1.7474047245616178 SD 1.3796034319243218\n",
      "\t Total Eucilidean Error 1.8773035532260733 SD 1.3260046405945163\n"
     ]
    }
   ],
   "source": [
    "gazecoordsAndGrid = []\n",
    "\n",
    "for n_windows in range(1,11):\n",
    "\n",
    "    feature_len= 26\n",
    "    window_size = n_windows * feature_len\n",
    "    stride_size = window_size\n",
    "\n",
    "    Y_OUT, Y_GT = None, None\n",
    "\n",
    "    for i in range(len(g_id)):\n",
    "\n",
    "        X_train, Y_train, X_test, Y_test = None, None, None, None\n",
    "\n",
    "        for j in range(len(g_id)):\n",
    "            df_extract = df_group.get_group(g_id[j])\n",
    "            x = np.array(df_extract[feat].tolist())\n",
    "            y = np.array(df_extract[\"Gaze Target XY\"].tolist())\n",
    "            \n",
    "            if g_id[i] == g_id[j]:\n",
    "                X_test = x\n",
    "                Y_test = y\n",
    "            else:\n",
    "                if X_train is None:\n",
    "                    X_train = x\n",
    "                    Y_train = y\n",
    "                else:\n",
    "                    X_train = np.vstack((X_train,x))\n",
    "                    Y_train = np.vstack((Y_train,y))\n",
    "\n",
    "        X_train = np.nan_to_num(X_train)\n",
    "        X_test = np.nan_to_num(X_test)\n",
    "\n",
    "        X_train = X_train.reshape(X_train.shape[0],X_train.shape[1]*X_train.shape[2])\n",
    "        X_test = X_test.reshape(X_test.shape[0],X_test.shape[1]*X_test.shape[2])\n",
    "\n",
    "        X_train, Y_train = window_np_array(X_train,Y_train,win_size=window_size,win_stride=stride_size)\n",
    "        X_test, Y_test = window_np_array(X_test,Y_test,win_size=window_size,win_stride=stride_size)\n",
    "\n",
    "        min_max_scaler_x = preprocessing.MinMaxScaler()\n",
    "        X_train = min_max_scaler_x.fit_transform(X_train)\n",
    "        X_test = min_max_scaler_x.transform(X_test)\n",
    "\n",
    "#         clf = ExtraTreesRegressor(n_estimators=100)\n",
    "        \n",
    "        clf_x = SVR(kernel='poly')\n",
    "        clf_x.fit(X_train,Y_train[:,0])\n",
    "        \n",
    "        clf_y = SVR(kernel='poly')\n",
    "        clf_y.fit(X_train,Y_train[:,1])\n",
    "\n",
    "#         Y_pred = clf.predict(X_test)\n",
    "\n",
    "        Y_pred_x = clf_x.predict(X_test)\n",
    "        Y_pred_y = clf_y.predict(X_test)\n",
    "        Y_pred = np.zeros_like(Y_test)\n",
    "        Y_pred[:,0] = Y_pred_x\n",
    "        Y_pred[:,1] = Y_pred_y\n",
    "\n",
    "\n",
    "        if Y_OUT is None:\n",
    "            Y_OUT = Y_pred\n",
    "            Y_GT = Y_test\n",
    "        else:\n",
    "            Y_OUT = np.vstack((Y_OUT,Y_pred))\n",
    "            Y_GT = np.vstack((Y_GT,Y_test))\n",
    "\n",
    "\n",
    "    Y_OUT = Y_OUT * [6.4, 12.8]\n",
    "    Y_GT = Y_GT * [6.4, 12.8]\n",
    "\n",
    "    Y_err = abs(Y_OUT - Y_GT)\n",
    "\n",
    "    print(n_windows)\n",
    "    print(\"\\t X Error\",np.mean(Y_err,axis=0)[0],\"SD\",np.std(Y_err,axis=0)[0])\n",
    "    print(\"\\t Y Error\",np.mean(Y_err,axis=0)[1],\"SD\",np.std(Y_err,axis=0)[1])\n",
    "\n",
    "    total_err = []\n",
    "    for i in range(len(Y_OUT)):\n",
    "        dist = distance.euclidean(Y_OUT[i],Y_GT[i])\n",
    "        total_err.append(dist)\n",
    "    print(\"\\t Total Eucilidean Error\",np.mean(total_err),\"SD\",np.std(total_err))"
   ]
  },
  {
   "cell_type": "code",
   "execution_count": null,
   "metadata": {},
   "outputs": [],
   "source": []
  },
  {
   "cell_type": "code",
   "execution_count": null,
   "metadata": {},
   "outputs": [],
   "source": []
  },
  {
   "cell_type": "code",
   "execution_count": null,
   "metadata": {},
   "outputs": [],
   "source": []
  },
  {
   "cell_type": "code",
   "execution_count": null,
   "metadata": {},
   "outputs": [],
   "source": []
  },
  {
   "cell_type": "code",
   "execution_count": null,
   "metadata": {},
   "outputs": [],
   "source": []
  },
  {
   "cell_type": "code",
   "execution_count": null,
   "metadata": {},
   "outputs": [],
   "source": []
  },
  {
   "cell_type": "code",
   "execution_count": null,
   "metadata": {
    "collapsed": true
   },
   "outputs": [],
   "source": []
  },
  {
   "cell_type": "code",
   "execution_count": null,
   "metadata": {
    "collapsed": true
   },
   "outputs": [],
   "source": []
  },
  {
   "cell_type": "code",
   "execution_count": null,
   "metadata": {
    "collapsed": true
   },
   "outputs": [],
   "source": []
  },
  {
   "cell_type": "code",
   "execution_count": null,
   "metadata": {
    "collapsed": true
   },
   "outputs": [],
   "source": []
  },
  {
   "cell_type": "code",
   "execution_count": null,
   "metadata": {
    "collapsed": true
   },
   "outputs": [],
   "source": []
  },
  {
   "cell_type": "code",
   "execution_count": null,
   "metadata": {
    "collapsed": true
   },
   "outputs": [],
   "source": []
  },
  {
   "cell_type": "code",
   "execution_count": null,
   "metadata": {
    "collapsed": true
   },
   "outputs": [],
   "source": []
  },
  {
   "cell_type": "code",
   "execution_count": null,
   "metadata": {
    "collapsed": true
   },
   "outputs": [],
   "source": []
  },
  {
   "cell_type": "code",
   "execution_count": null,
   "metadata": {
    "collapsed": true
   },
   "outputs": [],
   "source": []
  },
  {
   "cell_type": "code",
   "execution_count": null,
   "metadata": {
    "collapsed": true
   },
   "outputs": [],
   "source": []
  }
 ],
 "metadata": {
  "kernelspec": {
   "display_name": "Python 3",
   "language": "python",
   "name": "python3"
  },
  "language_info": {
   "codemirror_mode": {
    "name": "ipython",
    "version": 3
   },
   "file_extension": ".py",
   "mimetype": "text/x-python",
   "name": "python",
   "nbconvert_exporter": "python",
   "pygments_lexer": "ipython3",
   "version": "3.7.6"
  }
 },
 "nbformat": 4,
 "nbformat_minor": 4
}
