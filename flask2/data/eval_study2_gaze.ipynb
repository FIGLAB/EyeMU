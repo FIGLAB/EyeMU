{
 "cells": [
  {
   "cell_type": "code",
   "execution_count": 1,
   "metadata": {
    "collapsed": true
   },
   "outputs": [],
   "source": [
    "import pandas as pd\n",
    "import numpy as np\n",
    "from sklearn.ensemble import ExtraTreesRegressor\n",
    "import warnings\n",
    "warnings.filterwarnings('ignore')\n",
    "from sklearn import preprocessing\n",
    "from math import ceil, floor\n",
    "from scipy.spatial import distance"
   ]
  },
  {
   "cell_type": "code",
   "execution_count": 2,
   "metadata": {
    "collapsed": true
   },
   "outputs": [],
   "source": [
    "def slide_window(A, win_size, stride, padding = None):\n",
    "    '''Collects windows that slides over a one-dimensional array.\n",
    "\n",
    "    If padding is None, the last (rightmost) window is dropped if it\n",
    "    is incomplete, otherwise it is padded with the padding value.\n",
    "    '''\n",
    "    if win_size <= 0:\n",
    "        raise ValueError('Window size must be positive.')\n",
    "    if not (0 < stride <= win_size):\n",
    "        raise ValueError(f'Stride must satisfy 0 < stride <= {win_size}.')\n",
    "    if not A.base is None:\n",
    "        raise ValueError('Views cannot be slided over!')\n",
    "\n",
    "    n_elems = len(A)\n",
    "    if padding is not None:\n",
    "        n_windows = ceil(n_elems / stride)\n",
    "        A = np.pad(A, (0, n_windows * win_size - n_elems),\n",
    "                   constant_values = padding)\n",
    "    else:\n",
    "        n_windows = floor(n_elems / stride)\n",
    "    shape = n_windows, win_size\n",
    "\n",
    "    elem_size = A.strides[-1]\n",
    "    return np.lib.stride_tricks.as_strided(\n",
    "        A, shape = shape,\n",
    "        strides = (elem_size * stride, elem_size),\n",
    "        writeable = False)\n",
    "\n",
    "def window_np_array(X,Y,win_size,win_stride,padding=0):\n",
    "    X_out = []\n",
    "    Y_out = []\n",
    "    for i in range(len(X)):\n",
    "        out_vec = slide_window(np.array(X[i]),win_size,win_stride)\n",
    "        for j in range(len(out_vec)):\n",
    "            X_out.append(out_vec[j])\n",
    "            Y_out.append(Y[i])\n",
    "    return np.array(X_out), np.array(Y_out)"
   ]
  },
  {
   "cell_type": "code",
   "execution_count": 3,
   "metadata": {
    "collapsed": true
   },
   "outputs": [],
   "source": [
    "df = pd.read_pickle(\"./gazeldata.pkl\")"
   ]
  },
  {
   "cell_type": "code",
   "execution_count": 4,
   "metadata": {
    "collapsed": true
   },
   "outputs": [],
   "source": [
    "feat = \"Embeddings Hist\"\n",
    "control = \"Subject\""
   ]
  },
  {
   "cell_type": "code",
   "execution_count": 5,
   "metadata": {
    "collapsed": true
   },
   "outputs": [],
   "source": [
    "df_group = df.groupby([control])[\"Gaze Target XY\",feat]"
   ]
  },
  {
   "cell_type": "code",
   "execution_count": 6,
   "metadata": {
    "collapsed": true
   },
   "outputs": [],
   "source": [
    "g_id = list(df_group.groups.keys())"
   ]
  },
  {
   "cell_type": "code",
   "execution_count": 9,
   "metadata": {
    "scrolled": true
   },
   "outputs": [
    {
     "name": "stdout",
     "output_type": "stream",
     "text": [
      "1\n",
      "\t X Error 0.5796744210806367 SD 0.398608698313283\n",
      "\t Y Error 2.4380584508916896 SD 1.7064247556168681\n",
      "\t Total Eucilidean Error 2.585481322429523 SD 1.6328539790013612\n",
      "2\n",
      "\t X Error 0.5632721142755709 SD 0.38869776628026803\n",
      "\t Y Error 2.305115499955649 SD 1.6718031994532834\n",
      "\t Total Eucilidean Error 2.4523370637396407 SD 1.600902170614612\n",
      "3\n",
      "\t X Error 0.5490782835004254 SD 0.37215368838845925\n",
      "\t Y Error 2.09814450063585 SD 1.6023249171663037\n",
      "\t Total Eucilidean Error 2.2475034466757577 SD 1.5356982360131775\n",
      "4\n",
      "\t X Error 0.5293741460385081 SD 0.3631216422275669\n",
      "\t Y Error 1.9213194925028796 SD 1.5197086522638952\n",
      "\t Total Eucilidean Error 2.0761013131165966 SD 1.450131246219063\n",
      "5\n",
      "\t X Error 0.5149370952000742 SD 0.3586378231543496\n",
      "\t Y Error 1.8374653535622394 SD 1.4728017267608264\n",
      "\t Total Eucilidean Error 1.9925852129325712 SD 1.4031426589280667\n",
      "6\n",
      "\t X Error 0.5158555585129995 SD 0.3480964766928352\n",
      "\t Y Error 1.7125181439091521 SD 1.3918286523454253\n",
      "\t Total Eucilidean Error 1.8711571145899923 SD 1.3251243555084535\n",
      "7\n",
      "\t X Error 0.5140214710318523 SD 0.3512536349873126\n",
      "\t Y Error 1.6991940377961157 SD 1.3683906096195675\n",
      "\t Total Eucilidean Error 1.855940488756079 SD 1.30492732730458\n",
      "8\n",
      "\t X Error 0.5076617868866997 SD 0.3482516235910071\n",
      "\t Y Error 1.6823777836926623 SD 1.3490178462293294\n",
      "\t Total Eucilidean Error 1.8381157169765163 SD 1.2847468430436129\n",
      "9\n",
      "\t X Error 0.5026279833200248 SD 0.34424385293607584\n",
      "\t Y Error 1.6521707035755446 SD 1.3503202133699266\n",
      "\t Total Eucilidean Error 1.8088756962861594 SD 1.2853560392648486\n",
      "10\n",
      "\t X Error 0.4967623103540066 SD 0.34342911124726033\n",
      "\t Y Error 1.6364986247892774 SD 1.3220472617378487\n",
      "\t Total Eucilidean Error 1.7907573696747425 SD 1.2585074896883537\n"
     ]
    }
   ],
   "source": [
    "for n_windows in range(1,11):\n",
    "\n",
    "    feature_len= 26\n",
    "    window_size = n_windows * feature_len\n",
    "    stride_size = window_size\n",
    "\n",
    "    Y_OUT, Y_GT = None, None\n",
    "\n",
    "    for i in range(len(g_id)):\n",
    "\n",
    "        X_train, Y_train, X_test, Y_test = None, None, None, None\n",
    "\n",
    "        for j in range(len(g_id)):\n",
    "            df_extract = df_group.get_group(g_id[j])\n",
    "            x = np.array(df_extract[feat].tolist())\n",
    "            y = np.array(df_extract[\"Gaze Target XY\"].tolist())\n",
    "            if g_id[i] == g_id[j]:\n",
    "                X_test = x\n",
    "                Y_test = y\n",
    "            else:\n",
    "                if X_train is None:\n",
    "                    X_train = x\n",
    "                    Y_train = y\n",
    "                else:\n",
    "                    X_train = np.vstack((X_train,x))\n",
    "                    Y_train = np.vstack((Y_train,y))\n",
    "\n",
    "        X_train = np.nan_to_num(X_train)\n",
    "        X_test = np.nan_to_num(X_test)\n",
    "\n",
    "        X_train = X_train.reshape(X_train.shape[0],X_train.shape[1]*X_train.shape[2])\n",
    "        X_test = X_test.reshape(X_test.shape[0],X_test.shape[1]*X_test.shape[2])\n",
    "\n",
    "        X_train, Y_train = window_np_array(X_train,Y_train,win_size=window_size,win_stride=stride_size)\n",
    "        X_test, Y_test = window_np_array(X_test,Y_test,win_size=window_size,win_stride=stride_size)\n",
    "\n",
    "        min_max_scaler_x = preprocessing.MinMaxScaler()\n",
    "        X_train = min_max_scaler_x.fit_transform(X_train)\n",
    "        X_test = min_max_scaler_x.transform(X_test)\n",
    "\n",
    "        clf = ExtraTreesRegressor(n_estimators=100)\n",
    "\n",
    "        clf.fit(X_train,Y_train)\n",
    "\n",
    "        Y_pred = clf.predict(X_test)\n",
    "\n",
    "\n",
    "        if Y_OUT is None:\n",
    "            Y_OUT = Y_pred\n",
    "            Y_GT = Y_test\n",
    "        else:\n",
    "            Y_OUT = np.vstack((Y_OUT,Y_pred))\n",
    "            Y_GT = np.vstack((Y_GT,Y_test))\n",
    "\n",
    "\n",
    "    Y_OUT = Y_OUT * [6.4, 12.8]\n",
    "    Y_GT = Y_GT * [6.4, 12.8]\n",
    "\n",
    "    Y_err = abs(Y_OUT - Y_GT)\n",
    "\n",
    "    print(n_windows)\n",
    "    print(\"\\t X Error\",np.mean(Y_err,axis=0)[0],\"SD\",np.std(Y_err,axis=0)[0])\n",
    "    print(\"\\t Y Error\",np.mean(Y_err,axis=0)[1],\"SD\",np.std(Y_err,axis=0)[1])\n",
    "\n",
    "    total_err = []\n",
    "    for i in range(len(Y_OUT)):\n",
    "        dist = distance.euclidean(Y_OUT[i],Y_GT[i])\n",
    "        total_err.append(dist)\n",
    "    print(\"\\t Total Eucilidean Error\",np.mean(total_err),\"SD\",np.std(total_err))"
   ]
  },
  {
   "cell_type": "code",
   "execution_count": null,
   "metadata": {},
   "outputs": [],
   "source": []
  },
  {
   "cell_type": "code",
   "execution_count": null,
   "metadata": {},
   "outputs": [],
   "source": []
  },
  {
   "cell_type": "code",
   "execution_count": null,
   "metadata": {
    "collapsed": true
   },
   "outputs": [],
   "source": []
  },
  {
   "cell_type": "code",
   "execution_count": null,
   "metadata": {
    "collapsed": true
   },
   "outputs": [],
   "source": []
  },
  {
   "cell_type": "code",
   "execution_count": null,
   "metadata": {
    "collapsed": true
   },
   "outputs": [],
   "source": []
  },
  {
   "cell_type": "code",
   "execution_count": null,
   "metadata": {
    "collapsed": true
   },
   "outputs": [],
   "source": []
  },
  {
   "cell_type": "code",
   "execution_count": null,
   "metadata": {
    "collapsed": true
   },
   "outputs": [],
   "source": []
  },
  {
   "cell_type": "code",
   "execution_count": null,
   "metadata": {
    "collapsed": true
   },
   "outputs": [],
   "source": []
  },
  {
   "cell_type": "code",
   "execution_count": null,
   "metadata": {
    "collapsed": true
   },
   "outputs": [],
   "source": []
  },
  {
   "cell_type": "code",
   "execution_count": null,
   "metadata": {
    "collapsed": true
   },
   "outputs": [],
   "source": []
  },
  {
   "cell_type": "code",
   "execution_count": null,
   "metadata": {
    "collapsed": true
   },
   "outputs": [],
   "source": []
  },
  {
   "cell_type": "code",
   "execution_count": null,
   "metadata": {
    "collapsed": true
   },
   "outputs": [],
   "source": []
  },
  {
   "cell_type": "code",
   "execution_count": null,
   "metadata": {
    "collapsed": true
   },
   "outputs": [],
   "source": []
  },
  {
   "cell_type": "code",
   "execution_count": null,
   "metadata": {
    "collapsed": true
   },
   "outputs": [],
   "source": []
  },
  {
   "cell_type": "code",
   "execution_count": null,
   "metadata": {
    "collapsed": true
   },
   "outputs": [],
   "source": []
  },
  {
   "cell_type": "code",
   "execution_count": null,
   "metadata": {
    "collapsed": true
   },
   "outputs": [],
   "source": []
  }
 ],
 "metadata": {
  "kernelspec": {
   "display_name": "Python [conda env:py36]",
   "language": "python",
   "name": "conda-env-py36-py"
  },
  "language_info": {
   "codemirror_mode": {
    "name": "ipython",
    "version": 3
   },
   "file_extension": ".py",
   "mimetype": "text/x-python",
   "name": "python",
   "nbconvert_exporter": "python",
   "pygments_lexer": "ipython3",
   "version": "3.8.5"
  }
 },
 "nbformat": 4,
 "nbformat_minor": 4
}
