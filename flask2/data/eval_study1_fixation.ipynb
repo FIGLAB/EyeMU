{
 "cells": [
  {
   "cell_type": "code",
   "execution_count": 132,
   "metadata": {},
   "outputs": [],
   "source": [
    "import pandas as pd\n",
    "import numpy as np\n",
    "from sklearn.ensemble import ExtraTreesClassifier\n",
    "import warnings\n",
    "warnings.filterwarnings('ignore')\n",
    "from sklearn import preprocessing\n",
    "from sklearn.metrics import accuracy_score\n",
    "from sklearn.neural_network import MLPClassifier"
   ]
  },
  {
   "cell_type": "code",
   "execution_count": 134,
   "metadata": {},
   "outputs": [],
   "source": [
    "def chunk_filter_data(X,Y,chunk_size,train=False):\n",
    "    inter_val = chunk_size\n",
    "    if train == True:\n",
    "        inter_val = 1\n",
    "    X_out = []\n",
    "    Y_out = []\n",
    "    for i in range(0,len(X),inter_val):\n",
    "        x = X[i:i+chunk_size]\n",
    "        y = Y[i:i+chunk_size]\n",
    "        if (np.all(y == y[0])) == False:\n",
    "            continue\n",
    "        if x.shape[0] != chunk_size:\n",
    "            continue\n",
    "        X_out.append(x.flatten())\n",
    "        Y_out.append(y[0])\n",
    "    return np.array(X_out), np.array(Y_out)"
   ]
  },
  {
   "cell_type": "code",
   "execution_count": 135,
   "metadata": {},
   "outputs": [],
   "source": [
    "df = pd.read_pickle(\"./calibdata.pkl\")"
   ]
  },
  {
   "cell_type": "code",
   "execution_count": 136,
   "metadata": {},
   "outputs": [],
   "source": [
    "continous = np.mean(np.array(df[\"Gaze Target XY\"].values.tolist()),axis=1)\n",
    "fixation = [0]\n",
    "for i in range(1,len(continous)):\n",
    "    fixation.append(continous[i] - continous[i-1])\n",
    "for i in range(0,len(fixation)):\n",
    "    if fixation[i] == 0:\n",
    "        fixation[i] = True\n",
    "    else:\n",
    "        fixation[i] = False\n",
    "df['fixation'] = fixation"
   ]
  },
  {
   "cell_type": "code",
   "execution_count": 137,
   "metadata": {},
   "outputs": [],
   "source": [
    "feat = \"Embeddings Hist\"\n",
    "control = \"Subject\"\n",
    "df_group = df.groupby([control])[\"fixation\",feat]\n",
    "g_id = list(df_group.groups.keys())"
   ]
  },
  {
   "cell_type": "code",
   "execution_count": 138,
   "metadata": {
    "scrolled": true
   },
   "outputs": [
    {
     "name": "stdout",
     "output_type": "stream",
     "text": [
      "Participant 0\n",
      "\t Train shape: (6840, 234) (6840, 1)\n",
      "\t Test shape: (85, 234) (85, 1)\n",
      "\t Accuracy 0.7764705882352941\n",
      "Participant 1\n",
      "\t Train shape: (6840, 234) (6840, 1)\n",
      "\t Test shape: (85, 234) (85, 1)\n",
      "\t Accuracy 0.7647058823529411\n",
      "Participant 2\n",
      "\t Train shape: (6840, 234) (6840, 1)\n",
      "\t Test shape: (85, 234) (85, 1)\n",
      "\t Accuracy 0.8\n",
      "Participant 3\n",
      "\t Train shape: (6840, 234) (6840, 1)\n",
      "\t Test shape: (85, 234) (85, 1)\n",
      "\t Accuracy 0.6470588235294118\n",
      "Participant 4\n",
      "\t Train shape: (6840, 234) (6840, 1)\n",
      "\t Test shape: (85, 234) (85, 1)\n",
      "\t Accuracy 0.7176470588235294\n",
      "Participant 5\n",
      "\t Train shape: (6840, 234) (6840, 1)\n",
      "\t Test shape: (85, 234) (85, 1)\n",
      "\t Accuracy 0.6941176470588235\n",
      "Participant 6\n",
      "\t Train shape: (6840, 234) (6840, 1)\n",
      "\t Test shape: (85, 234) (85, 1)\n",
      "\t Accuracy 0.6352941176470588\n",
      "Participant 7\n",
      "\t Train shape: (6840, 234) (6840, 1)\n",
      "\t Test shape: (85, 234) (85, 1)\n",
      "\t Accuracy 0.7529411764705882\n",
      "Participant 8\n",
      "\t Train shape: (6840, 234) (6840, 1)\n",
      "\t Test shape: (85, 234) (85, 1)\n",
      "\t Accuracy 0.7294117647058823\n",
      "Participant 9\n",
      "\t Train shape: (6840, 234) (6840, 1)\n",
      "\t Test shape: (85, 234) (85, 1)\n",
      "\t Accuracy 0.7294117647058823\n"
     ]
    }
   ],
   "source": [
    "chunk_size = 9\n",
    "\n",
    "Y_OUT, Y_GT = None, None\n",
    "acc = []\n",
    "\n",
    "for i in range(len(g_id)):\n",
    "    \n",
    "    print(\"Participant\",g_id[i])\n",
    "    \n",
    "    X_train, Y_train, X_test, Y_test = None, None, None, None\n",
    "    \n",
    "    for j in range(len(g_id)):\n",
    "        df_extract = df_group.get_group(g_id[j])\n",
    "        x = np.array(df_extract[feat].tolist())\n",
    "        y = np.array(df_extract[\"fixation\"].tolist())\n",
    "        x = x.reshape(x.shape[0],x.shape[1]*x.shape[2])\n",
    "        y = y.reshape(-1,1)\n",
    "        if g_id[i] == g_id[j]:\n",
    "            X_test = x\n",
    "            Y_test = y\n",
    "        else:\n",
    "            if X_train is None:\n",
    "                X_train = x\n",
    "                Y_train = y\n",
    "            else:\n",
    "                X_train = np.vstack((X_train,x))\n",
    "                Y_train = np.vstack((Y_train,y))\n",
    "        \n",
    "    \n",
    "    X_train = np.nan_to_num(X_train)\n",
    "    X_test = np.nan_to_num(X_test)\n",
    "    \n",
    "    X_train, Y_train = chunk_filter_data(X_train,Y_train,chunk_size,train=True)\n",
    "    X_test, Y_test = chunk_filter_data(X_test,Y_test,chunk_size)\n",
    "\n",
    "    print(\"\\t Train shape:\",X_train.shape,Y_train.shape)\n",
    "    print(\"\\t Test shape:\",X_test.shape,Y_test.shape)\n",
    "    \n",
    "    min_max_scaler_x = preprocessing.MinMaxScaler()\n",
    "    X_train = min_max_scaler_x.fit_transform(X_train)\n",
    "    X_test = min_max_scaler_x.transform(X_test)\n",
    "    \n",
    "#     clf = ExtraTreesClassifier(n_estimators=1000)\n",
    "    clf = MLPClassifier()\n",
    "    \n",
    "    clf.fit(X_train,Y_train)\n",
    "    \n",
    "    Y_pred = clf.predict(X_test).reshape(-1,1)\n",
    "    \n",
    "    if Y_OUT is None:\n",
    "        Y_OUT = Y_pred\n",
    "        Y_GT = Y_test\n",
    "    else:\n",
    "        Y_OUT = np.vstack((Y_OUT,Y_pred))\n",
    "        Y_GT = np.vstack((Y_GT,Y_test))\n",
    "    \n",
    "    print(\"\\t Accuracy\",accuracy_score(Y_test,Y_pred))\n",
    "    acc.append(accuracy_score(Y_test,Y_pred))\n"
   ]
  },
  {
   "cell_type": "code",
   "execution_count": 139,
   "metadata": {},
   "outputs": [
    {
     "name": "stdout",
     "output_type": "stream",
     "text": [
      "Accuracy 0.7247058823529412 SD 0.05079301916452448\n"
     ]
    }
   ],
   "source": [
    "print(\"Accuracy\",np.mean(acc),\"SD\",np.std(acc))"
   ]
  },
  {
   "cell_type": "code",
   "execution_count": null,
   "metadata": {},
   "outputs": [],
   "source": []
  },
  {
   "cell_type": "code",
   "execution_count": null,
   "metadata": {},
   "outputs": [],
   "source": []
  },
  {
   "cell_type": "code",
   "execution_count": null,
   "metadata": {},
   "outputs": [],
   "source": []
  },
  {
   "cell_type": "code",
   "execution_count": null,
   "metadata": {},
   "outputs": [],
   "source": []
  },
  {
   "cell_type": "code",
   "execution_count": null,
   "metadata": {},
   "outputs": [],
   "source": []
  },
  {
   "cell_type": "code",
   "execution_count": null,
   "metadata": {},
   "outputs": [],
   "source": []
  },
  {
   "cell_type": "code",
   "execution_count": null,
   "metadata": {},
   "outputs": [],
   "source": []
  },
  {
   "cell_type": "code",
   "execution_count": null,
   "metadata": {},
   "outputs": [],
   "source": []
  },
  {
   "cell_type": "code",
   "execution_count": null,
   "metadata": {},
   "outputs": [],
   "source": []
  },
  {
   "cell_type": "code",
   "execution_count": null,
   "metadata": {},
   "outputs": [],
   "source": []
  },
  {
   "cell_type": "code",
   "execution_count": null,
   "metadata": {},
   "outputs": [],
   "source": [
    "\n",
    "\n"
   ]
  },
  {
   "cell_type": "code",
   "execution_count": null,
   "metadata": {},
   "outputs": [],
   "source": []
  },
  {
   "cell_type": "code",
   "execution_count": null,
   "metadata": {},
   "outputs": [],
   "source": []
  },
  {
   "cell_type": "code",
   "execution_count": null,
   "metadata": {},
   "outputs": [],
   "source": []
  },
  {
   "cell_type": "code",
   "execution_count": null,
   "metadata": {},
   "outputs": [],
   "source": []
  },
  {
   "cell_type": "code",
   "execution_count": null,
   "metadata": {},
   "outputs": [],
   "source": []
  }
 ],
 "metadata": {
  "kernelspec": {
   "display_name": "Python 3",
   "language": "python",
   "name": "python3"
  },
  "language_info": {
   "codemirror_mode": {
    "name": "ipython",
    "version": 3
   },
   "file_extension": ".py",
   "mimetype": "text/x-python",
   "name": "python",
   "nbconvert_exporter": "python",
   "pygments_lexer": "ipython3",
   "version": "3.8.5"
  }
 },
 "nbformat": 4,
 "nbformat_minor": 4
}
