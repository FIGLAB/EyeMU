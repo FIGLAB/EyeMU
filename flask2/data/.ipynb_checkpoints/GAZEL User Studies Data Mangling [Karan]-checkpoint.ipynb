{
 "cells": [
  {
   "cell_type": "code",
   "execution_count": 1,
   "metadata": {},
   "outputs": [
    {
     "data": {
      "text/html": [
       "<style>.container { width:70% !important; }</style>"
      ],
      "text/plain": [
       "<IPython.core.display.HTML object>"
      ]
     },
     "metadata": {},
     "output_type": "display_data"
    }
   ],
   "source": [
    "# Make cells wider\n",
    "from IPython.core.display import display, HTML\n",
    "display(HTML(\"<style>.container { width:70% !important; }</style>\"))"
   ]
  },
  {
   "cell_type": "code",
   "execution_count": 2,
   "metadata": {},
   "outputs": [],
   "source": [
    "import json\n",
    "import numpy as np\n",
    "import os\n",
    "\n",
    "# !pip install pywebarchive\n",
    "import webarchive\n",
    "\n",
    "\n",
    "import re\n",
    "import json\n",
    "import pandas as pd\n",
    "\n",
    "import matplotlib.pyplot as plt\n",
    "import matplotlib\n",
    "import pandas as pd\n",
    "\n",
    "nparr = np.array"
   ]
  },
  {
   "cell_type": "markdown",
   "metadata": {},
   "source": [
    "# Importing and loading data into Pandas DFs"
   ]
  },
  {
   "cell_type": "code",
   "execution_count": 3,
   "metadata": {},
   "outputs": [
    {
     "name": "stdout",
     "output_type": "stream",
     "text": [
      "Successfully parsed 10 trials and 10 calibration rounds\n"
     ]
    }
   ],
   "source": [
    "# Load in eval trial data\n",
    "def cleanhtml(raw_html):\n",
    "    cleanr = re.compile('<.*?>')\n",
    "    cleantext = re.sub(cleanr, '', raw_html)\n",
    "    return cleantext\n",
    "\n",
    "gestureNames = [\"Forward flick\", \"Right flick\", \"Right tilt\", \"Left flick\", \\\n",
    "                \"Left tilt\", \"Pull close\", \"Push away\", \"Turn to right\", \"Turn to left\"]\n",
    "\n",
    "# Import all webarchives in the directory\n",
    "files = []\n",
    "calib_files = []\n",
    "for r,d,f in os.walk(\".\"):\n",
    "    for file in f:\n",
    "        if 'GAZEL dot' in r:\n",
    "            if \".webarchive\" in file:\n",
    "                files.append(os.path.join(r, file))\n",
    "            elif \"gazel_checkpoint\" in file:\n",
    "                calib_files.append(os.path.join(r, file))\n",
    "\n",
    "\n",
    "# Webarchive format -> parsed JSON dictionaries\n",
    "fileData = []\n",
    "for file in files:\n",
    "    tmp = webarchive.open(file)\n",
    "    jsonStr = cleanhtml(tmp._main_resource.data.decode())\n",
    "    try:\n",
    "        jsonData = json.loads(jsonStr)\n",
    "        for key in jsonData.keys():\n",
    "            jsonData[key] = json.loads(jsonData[key])\n",
    "        fileData.append(jsonData)\n",
    "    except:\n",
    "        print(\"Failed on \" + file)\n",
    "        \n",
    "# Load in calibration round data\n",
    "\n",
    "# 5 rounds, a = [[], [], [], [], []]\n",
    "# Each round is made up of [x,y] pairs.\n",
    "#   The x is embeddings\n",
    "#   The y is dot ground truth\n",
    "calibData = []\n",
    "for calib_file in calib_files:\n",
    "    with open(calib_file, 'r') as f:\n",
    "        a = json.loads(f.read())\n",
    "        for i in range(len(a)):\n",
    "            a[i] = json.loads(a[i])\n",
    "        calibData.append(a)\n",
    "        \n",
    "print(\"Successfully parsed \" + str(len(fileData)) + \" trials\", end=\" \")\n",
    "print(\"and \" + str(len(calibData)) + \" calibration rounds\")\n"
   ]
  },
  {
   "cell_type": "code",
   "execution_count": 4,
   "metadata": {
    "scrolled": true
   },
   "outputs": [
    {
     "name": "stdout",
     "output_type": "stream",
     "text": [
      "Parsing subject # 0, Parsing subject # 1, Parsing subject # 2, Parsing subject # 3, Parsing subject # 4, Parsing subject # 5, Parsing subject # 6, Parsing subject # 7, Parsing subject # 8, Parsing subject # 9, "
     ]
    }
   ],
   "source": [
    "# Create DFs, making first a list of each trial separately, tagged with user ID and everything\n",
    "dataList = []\n",
    "calibList = []\n",
    "\n",
    "for subNum in range(len(fileData)):\n",
    "    print(\"Parsing subject #\", subNum, end=\", \")\n",
    "    data = fileData[subNum]\n",
    "    for evalName in data.keys():\n",
    "        for gestureBlock in data[evalName]:\n",
    "            for segment in gestureBlock:\n",
    "                # Unpack each segment trial\n",
    "                timestamp, detected, target, histories = segment\n",
    "\n",
    "                detectedGest = detected[0]\n",
    "                detectedGaze = detected[1]\n",
    "\n",
    "                # Get the ground truth gesture and square out\n",
    "                gestureTarget = target[0]\n",
    "                gestureName = gestureNames[gestureTarget]\n",
    "                gazeTarget = target[1]\n",
    "\n",
    "                # Unpack the histories array\n",
    "                headsize_hist, embeddings_hist, gazepreds_hist, IMU_hist, \\\n",
    "                                    gestdetect_hist, facevisible_hist = histories\n",
    "\n",
    "                dataList.append([subNum, evalName, gestureName, gazeTarget, timestamp, \n",
    "                                 gestureTarget, gazeTarget, detectedGest, detectedGaze, \n",
    "                                 headsize_hist, embeddings_hist, gazepreds_hist, gestdetect_hist, IMU_hist, \n",
    "                                     facevisible_hist])\n",
    "\n",
    "    subjectCalData = calibData[subNum]\n",
    "    for calRound in subjectCalData:\n",
    "        x,y = calRound\n",
    "        for i in range(len(x)):\n",
    "            calibList.append([subNum, [x[i]],y[i]])\n",
    "\n",
    "\n",
    "# Target gestures are top to bottom\n",
    "# | 1  5 |\n",
    "# | 2  6 | \n",
    "# | 3  7 |\n",
    "# | 4  8 |"
   ]
  },
  {
   "cell_type": "code",
   "execution_count": 5,
   "metadata": {
    "scrolled": true
   },
   "outputs": [
    {
     "name": "stdout",
     "output_type": "stream",
     "text": [
      "\n",
      "GAZELdata has length after creating DF:  3780\n",
      "After filtering, GAZELdata has length:  3615\n"
     ]
    }
   ],
   "source": [
    "# Adding columns to the eval DF and filtering             RUN CELL ABOVE FIRST\n",
    "firstInd = 5\n",
    "minLength = 10\n",
    "\n",
    "# Function to filter the embeddings and gaze prediction histories based on movement\n",
    "def getFirstActivity(lst):\n",
    "    tmp = next((i for i,x in enumerate(lst) if sum(x) != 0), -1)\n",
    "    # if tmp == -1: tmp = len(lst)\n",
    "    return tmp\n",
    "\n",
    "############## Create dataframe out of the list\n",
    "GAZELdata = pd.DataFrame(dataList, columns=['Subject', \"Set\", \"Gesture Target Name\", \"Gaze Target\", \"Timestamp\",\n",
    "       \"Target Gesture\", \"Target Gaze\", \"Detected Gesture\", \"Detected Gaze\",\n",
    "        \"Headsize Hist\", \"Embeddings Hist\", \"Gazepreds Hist\", \"Gestpreds Hist\", \"IMU Hist\", \"Face Detection Hist\"\n",
    "                                   ])\n",
    "print(\"\\nGAZELdata has length after creating DF: \", len(GAZELdata))\n",
    "\n",
    "\n",
    "####### Find index of first motion, then trim each gazepred and embedding history there. \n",
    "            # Also remove the first few samples to get rid of reaction time\n",
    "firstIndices = list(map(getFirstActivity, GAZELdata['Gestpreds Hist']))\n",
    "for col in ['Gazepreds Hist', 'Embeddings Hist', 'Face Detection Hist']:\n",
    "        GAZELdata[col] = list(map(lambda x: x[0][firstInd:(x[1]-1)], zip(GAZELdata[col],firstIndices)))\n",
    "\n",
    "# #### Remove samples where head is not visible.\n",
    "# indices = [np.argwhere(nparr(x) < .9) for x in GAZELdata['Face Detection Hist']]\n",
    "# for col in ['Gazepreds Hist', 'Embeddings Hist', 'Face Detection Hist']:\n",
    "#         GAZELdata[col] = list(map((lambda x: np.delete(x[0], x[1],axis=0)), zip(GAZELdata[col],indices)))        \n",
    "        \n",
    "# Then remove all rows where the length is too short (1 sample is about 100 ms)\n",
    "GAZELdata = GAZELdata.loc[[len(x) >= minLength for x in GAZELdata['Gazepreds Hist']]]\n",
    "\n",
    "\n",
    "\n",
    "######## Add grid? and Calib? column\n",
    "GAZELdata[\"Grid?\"] = [x[0] == \"g\" for x in GAZELdata[\"Set\"]]\n",
    "GAZELdata['Calib?'] = False\n",
    "\n",
    "\n",
    "######### Add target locations in XY\n",
    "GAZELdata['Gaze Target XY'] = np.zeros((len(GAZELdata), 2)).tolist()\n",
    "def seg2GridCoords(segNum):\n",
    "    return [(1 + (segNum-1)//4)/3, 1/8 + (((segNum-1) % 4) )/4]\n",
    "def seg2ListCoords(segNum):\n",
    "    return [0.5, 1/12 + (segNum-1)/6]\n",
    "\n",
    "grids = [x[0]=='g' for x in GAZELdata['Set']]\n",
    "lists = [not x for x in grids]\n",
    "\n",
    "# GAZELdata.loc[grids, 'Gaze Target XY'] = pd.Series([seg2GridCoords(x) for x in GAZELdata.loc[grids, 'Gaze Target']])\n",
    "# GAZELdata.loc[lists, 'Gaze Target XY'] = pd.Series([seg2ListCoords(x) for x in GAZELdata.loc[lists, 'Gaze Target']])\n",
    "GAZELdata.loc[grids, 'Gaze Target XY'] = GAZELdata.loc[grids, 'Gaze Target'].map(seg2GridCoords)\n",
    "GAZELdata.loc[lists, 'Gaze Target XY'] = GAZELdata.loc[lists, 'Gaze Target'].map(seg2ListCoords)\n",
    "\n",
    "\n",
    "######## Add raw XY from base model\n",
    "GAZELdata['Raw Gazepreds Hist'] = [[y[12:14] for y in x] for x in GAZELdata['Embeddings Hist']]\n",
    "\n",
    "\n",
    "print(\"After filtering, GAZELdata has length: \", len(GAZELdata))\n",
    "# # Plot one of the eye histories for fun\n",
    "# plt.plot(GAZELdata['Gazepreds Hist'][0])"
   ]
  },
  {
   "cell_type": "code",
   "execution_count": 6,
   "metadata": {},
   "outputs": [
    {
     "name": "stdout",
     "output_type": "stream",
     "text": [
      "All data length:  17615\n"
     ]
    }
   ],
   "source": [
    "# Create calib DF and training DF\n",
    "def xyToSegGrid(lst):\n",
    "    x,y = lst\n",
    "    return int(((y//.25)+1) + 4*(x > .5))\n",
    "\n",
    "def xyToSegList(lst):\n",
    "    x,y = lst\n",
    "    return int(y//(1/6) + 1)\n",
    "\n",
    "def f(clf, dataset):\n",
    "    newOutputs = [np.mean(clf.predict(x), axis=0) for x in dataset['Embeddings Hist']]\n",
    "    print(\"Testing abs error on same conditions as base model\", mean_absolute_error(dataset['Gaze Target XY'].tolist(), newOutputs))\n",
    "    \n",
    "    # Accuracy for new model\n",
    "    predSegs = []\n",
    "    for i in range(len(newOutputs)):\n",
    "        curXY = newOutputs[i]\n",
    "#         print(dataset.iloc[i])\n",
    "        if dataset.iloc[i][\"Set\"][0] == \"g\":\n",
    "            predSeg = xyToSegGrid(curXY)\n",
    "        else:\n",
    "            predSeg = xyToSegList(curXY)\n",
    "        predSegs.append(predSeg)\n",
    "\n",
    "        \n",
    "CALIBdata = pd.DataFrame(calibList, columns=[\"Subject\", \"Embeddings Hist\", \"Gaze Target XY\"])\n",
    "CALIBdata['Set'] = \"grid\" # Assume grid for accuracy calcs\n",
    "CALIBdata['Gaze Target'] = CALIBdata['Gaze Target XY'].map(xyToSegGrid)\n",
    "CALIBdata['Grid?'] = True\n",
    "CALIBdata['Calib?'] = True\n",
    "\n",
    "\n",
    "ALLdata = pd.concat([GAZELdata, CALIBdata], sort=False).reset_index()\n",
    "print(\"All data length: \", len(ALLdata))\n",
    "\n",
    "postDF = ALLdata[['Subject', 'Set', 'Calib?', 'Grid?', 'Embeddings Hist', 'Gaze Target XY', 'Gaze Target']].copy()"
   ]
  },
  {
   "cell_type": "code",
   "execution_count": 7,
   "metadata": {},
   "outputs": [
    {
     "ename": "NameError",
     "evalue": "name 'mean_absolute_error' is not defined",
     "output_type": "error",
     "traceback": [
      "\u001b[0;31m---------------------------------------------------------------------------\u001b[0m",
      "\u001b[0;31mNameError\u001b[0m                                 Traceback (most recent call last)",
      "\u001b[0;32m<ipython-input-7-67d904217a70>\u001b[0m in \u001b[0;36m<module>\u001b[0;34m()\u001b[0m\n\u001b[1;32m     39\u001b[0m \u001b[0;31m# getNatureModelAccuracy(GAZELdata)\u001b[0m\u001b[0;34m\u001b[0m\u001b[0;34m\u001b[0m\u001b[0;34m\u001b[0m\u001b[0m\n\u001b[1;32m     40\u001b[0m \u001b[0;34m\u001b[0m\u001b[0m\n\u001b[0;32m---> 41\u001b[0;31m \u001b[0mgetBaseErrorCM\u001b[0m\u001b[0;34m(\u001b[0m\u001b[0mGAZELdata\u001b[0m\u001b[0;34m)\u001b[0m\u001b[0;34m\u001b[0m\u001b[0;34m\u001b[0m\u001b[0m\n\u001b[0m\u001b[1;32m     42\u001b[0m \u001b[0;31m# Add per-square metrics to this\u001b[0m\u001b[0;34m\u001b[0m\u001b[0;34m\u001b[0m\u001b[0;34m\u001b[0m\u001b[0m\n",
      "\u001b[0;32m<ipython-input-7-67d904217a70>\u001b[0m in \u001b[0;36mgetBaseErrorCM\u001b[0;34m(subjectData)\u001b[0m\n\u001b[1;32m      3\u001b[0m     \u001b[0ma\u001b[0m \u001b[0;34m=\u001b[0m \u001b[0mnp\u001b[0m\u001b[0;34m.\u001b[0m\u001b[0marray\u001b[0m\u001b[0;34m(\u001b[0m\u001b[0msubjectData\u001b[0m\u001b[0;34m[\u001b[0m\u001b[0;34m'Gazepreds Hist'\u001b[0m\u001b[0;34m]\u001b[0m\u001b[0;34m)\u001b[0m\u001b[0;34m\u001b[0m\u001b[0;34m\u001b[0m\u001b[0m\n\u001b[1;32m      4\u001b[0m     \u001b[0mb\u001b[0m \u001b[0;34m=\u001b[0m \u001b[0;34m[\u001b[0m\u001b[0mnp\u001b[0m\u001b[0;34m.\u001b[0m\u001b[0mmean\u001b[0m\u001b[0;34m(\u001b[0m\u001b[0mx\u001b[0m\u001b[0;34m,\u001b[0m \u001b[0maxis\u001b[0m\u001b[0;34m=\u001b[0m\u001b[0;36m0\u001b[0m\u001b[0;34m)\u001b[0m \u001b[0;32mfor\u001b[0m \u001b[0mx\u001b[0m \u001b[0;32min\u001b[0m \u001b[0ma\u001b[0m\u001b[0;34m]\u001b[0m\u001b[0;34m\u001b[0m\u001b[0;34m\u001b[0m\u001b[0m\n\u001b[0;32m----> 5\u001b[0;31m     \u001b[0;32mreturn\u001b[0m \u001b[0mmean_absolute_error\u001b[0m\u001b[0;34m(\u001b[0m\u001b[0msubjectData\u001b[0m\u001b[0;34m[\u001b[0m\u001b[0;34m'Gaze Target XY'\u001b[0m\u001b[0;34m]\u001b[0m\u001b[0;34m.\u001b[0m\u001b[0mto_list\u001b[0m\u001b[0;34m(\u001b[0m\u001b[0;34m)\u001b[0m\u001b[0;34m,\u001b[0m \u001b[0mb\u001b[0m\u001b[0;34m)\u001b[0m\u001b[0;34m\u001b[0m\u001b[0;34m\u001b[0m\u001b[0m\n\u001b[0m\u001b[1;32m      6\u001b[0m \u001b[0;34m\u001b[0m\u001b[0m\n\u001b[1;32m      7\u001b[0m \u001b[0;32mdef\u001b[0m \u001b[0mgetErrorWithModel\u001b[0m\u001b[0;34m(\u001b[0m\u001b[0msubjectData\u001b[0m\u001b[0;34m,\u001b[0m \u001b[0mmodel\u001b[0m\u001b[0;34m)\u001b[0m\u001b[0;34m:\u001b[0m\u001b[0;34m\u001b[0m\u001b[0;34m\u001b[0m\u001b[0m\n",
      "\u001b[0;31mNameError\u001b[0m: name 'mean_absolute_error' is not defined"
     ]
    }
   ],
   "source": [
    "# Functions for getting base accuracy and cm error from a subject\n",
    "def getBaseErrorCM(subjectData):\n",
    "    a = np.array(subjectData['Gazepreds Hist'])\n",
    "    b = [np.mean(x, axis=0) for x in a]\n",
    "    return mean_absolute_error(subjectData['Gaze Target XY'].to_list(), b)\n",
    "\n",
    "def getErrorWithModel(subjectData, model):\n",
    "    a = subjectData['Gazepreds Hist']\n",
    "    feats = subjectData['Embeddings Hist']\n",
    "    b = [np.mean(model.predict(x), axis=0) for x in feats]\n",
    "\n",
    "    return mean_absolute_error(subjectData['Gaze Target XY'].to_list(), b)\n",
    "\n",
    "def printAcc(suff, correct, total):\n",
    "    print(suff, str(correct) + \"/\" + str(total) + \" = \" + str(round(correct/total*100,2)) + \"%\")\n",
    "\n",
    "def getNatureModelAccuracy(subData):\n",
    "    xy = subData['Raw Gazepreds Hist']\n",
    "    avgs = np.array([np.mean(x,axis=0) for x in xy])\n",
    "    \n",
    "    classOuts = np.zeros((len(avgs),1))\n",
    "    classOuts[np.invert(grids)] = nparr(list(map(xyToSegList, avgs[np.invert(grids)]))).reshape(-1,1)\n",
    "    classOuts[grids] = nparr(list(map(xyToSegGrid, avgs[grids]))).reshape(-1,1)\n",
    "    \n",
    "    printAcc(\"\\nNature Model Base Accuracy:\", sum(classOuts.reshape(1,-1)[0] == subData['Target Gaze']), len(subData))\n",
    "    \n",
    "def getBaseAccuracy(subData):\n",
    "    gazeGT = subData['Target Gaze']\n",
    "    gazePred = subData['Detected Gaze'].to_numpy().astype(int)\n",
    "    correct = sum(gazeGT == gazePred)\n",
    "    printAcc(\"\\nUnprocessed Gaze Accuracy:\", correct, len(gazePred))\n",
    "    \n",
    "    gestGT = subData['Target Gesture']\n",
    "    gestPred = subData['Detected Gesture']\n",
    "    correct = sum(gestGT == gestPred)\n",
    "    printAcc(\"Unprocessed Gestures Accuracy:\", correct, len(gestPred))\n",
    "\n",
    "# getBaseAccuracy(GAZELdata)\n",
    "# getNatureModelAccuracy(GAZELdata)\n",
    "\n",
    "getBaseErrorCM(GAZELdata)\n",
    "# Add per-square metrics to this"
   ]
  },
  {
   "cell_type": "code",
   "execution_count": 22,
   "metadata": {},
   "outputs": [
    {
     "data": {
      "text/plain": [
       "(10, 26)"
      ]
     },
     "execution_count": 22,
     "metadata": {},
     "output_type": "execute_result"
    }
   ],
   "source": [
    "np.array(GAZELdata['Embeddings Hist'][500]).shape"
   ]
  },
  {
   "cell_type": "code",
   "execution_count": null,
   "metadata": {},
   "outputs": [],
   "source": []
  },
  {
   "cell_type": "code",
   "execution_count": null,
   "metadata": {},
   "outputs": [],
   "source": []
  },
  {
   "cell_type": "code",
   "execution_count": null,
   "metadata": {},
   "outputs": [],
   "source": []
  },
  {
   "cell_type": "code",
   "execution_count": null,
   "metadata": {},
   "outputs": [],
   "source": []
  },
  {
   "cell_type": "code",
   "execution_count": null,
   "metadata": {},
   "outputs": [],
   "source": []
  },
  {
   "cell_type": "code",
   "execution_count": null,
   "metadata": {},
   "outputs": [],
   "source": []
  },
  {
   "cell_type": "code",
   "execution_count": null,
   "metadata": {},
   "outputs": [],
   "source": [
    "plt.plot(GAZELdata['Raw Gazepreds Hist'][80])"
   ]
  },
  {
   "cell_type": "markdown",
   "metadata": {},
   "source": [
    "# The Machine Begins to Learn Regression"
   ]
  },
  {
   "cell_type": "code",
   "execution_count": null,
   "metadata": {},
   "outputs": [],
   "source": [
    "# List of regression models\n",
    "\n",
    "import copy \n",
    "from sklearn.tree import DecisionTreeRegressor\n",
    "from sklearn.svm import SVR, NuSVR, LinearSVR\n",
    "from sklearn.neighbors import KNeighborsRegressor\n",
    "from sklearn.linear_model import RANSACRegressor\n",
    "from sklearn.linear_model import LinearRegression\n",
    "from sklearn.ensemble import RandomForestRegressor, \\\n",
    "    ExtraTreesRegressor,AdaBoostRegressor, VotingRegressor\n",
    "from sklearn.tree import DecisionTreeRegressor\n",
    "from sklearn.neural_network import MLPRegressor\n",
    "\n",
    "from sklearn.preprocessing import MinMaxScaler\n",
    "from sklearn.multioutput import MultiOutputRegressor\n",
    "from sklearn.model_selection import RepeatedKFold,cross_val_score\n",
    "from sklearn.metrics import mean_absolute_error\n",
    "\n",
    "models = [\n",
    "    ExtraTreesRegressor(),\n",
    "    ExtraTreesRegressor(n_estimators=100),\n",
    "    ExtraTreesRegressor(n_estimators=100, max_depth=10),\n",
    "    MLPRegressor(),\n",
    "    MLPRegressor(solver=\"lbfgs\"),\n",
    "    MLPRegressor(hidden_layer_sizes=(32,128), max_iter=300, solver=\"lbfgs\"),\n",
    "    KNeighborsRegressor(n_neighbors = 16), \n",
    "    RandomForestRegressor(), \n",
    "    ExtraTreesRegressor(), \n",
    "    SVR(),\n",
    "    NuSVR(),\n",
    "    LinearSVR(),\n",
    "    LinearRegression(),\n",
    "#     RANSACRegressor() # Broken\n",
    "]\n",
    "\n",
    "#### Splitting data into pairs\n",
    "def getRegressPairsFromTable(tbl, together=False): \n",
    "    c = []\n",
    "    gridOrList = []\n",
    "    gazeTargets = []\n",
    "    for i in tbl.index:\n",
    "        embeds = tbl.loc[i, 'Embeddings Hist']\n",
    "        XY = tbl.loc[i, 'Gaze Target XY']\n",
    "#         faceVis = tbl.loc[i, 'Face Detection Hist']\n",
    "        if together:\n",
    "            c.append([embeds[-6:],XY])\n",
    "            gazeTargets.append(tbl.loc[i, 'Gaze Target'])\n",
    "            gridOrList.append(tbl.loc[i, 'Set'])\n",
    "        else:\n",
    "            for j,sample in enumerate(embeds): \n",
    "                # remove samples where face is not visible\n",
    "#                 if faceVis[j] > .9:\n",
    "                c.append([sample, XY])\n",
    "                gazeTargets.append(tbl.loc[i, 'Gaze Target'])\n",
    "                gridOrList.append(tbl.loc[i, 'Set'])\n",
    "    return c,gazeTargets, gridOrList\n"
   ]
  },
  {
   "cell_type": "code",
   "execution_count": null,
   "metadata": {},
   "outputs": [],
   "source": [
    "# Regression \n",
    "# GAZELdata, CALIBdata, ALLdata, postDF\n",
    "def regressXYtogether_SingleEmbedThenVote(regressor, trainingDF, testingDF):\n",
    "    train, trainGazetargs, trainSet = getRegressPairsFromTable(trainingDF, together=False)\n",
    "    train_x = [np.array(x[0]).flatten() for x in train]\n",
    "    train_y = [x[1] for x in train]\n",
    "\n",
    "    print(\"Fitting...\")\n",
    "    model.fit(train_x, train_y)\n",
    "\n",
    "    # Test on the testing data\n",
    "    print(\"Predicting...\")\n",
    "    preds = [model.predict(x) for x in testingDF['Embeddings Hist']]\n",
    "    avgedPreds = [x.mean(axis=0) for x in preds]\n",
    "    p = testingDF['Gaze Target XY'].to_list()\n",
    "    q = avgedPreds\n",
    "    score = mean_absolute_error(p, q)\n",
    "    \n",
    "    print(\"Combined euclidean error:\", score)\n",
    "    print(\"model\", regressor)\n",
    "    return score\n",
    "\n",
    "\n",
    "def regressXYseparate_SingleEmbedThenVote(regressor, trainingDF, testingDF):\n",
    "    train, trainGazetargs, trainSet = getRegressPairsFromTable(trainingDF, together=False)\n",
    "    train_x = [np.array(x[0]).flatten() for x in train]\n",
    "    train_y_x = [x[1][0] for x in train]\n",
    "    train_y_y = [x[1][1] for x in train]\n",
    "\n",
    "    regressorX = regressor\n",
    "    regressorY = copy.deepcopy(regressorX)\n",
    "    print(\"Fitting...\")\n",
    "    regressorX.fit(train_x, train_y_x)\n",
    "    regressorY.fit(train_x, train_y_y)\n",
    "    \n",
    "    # Test on the testing data\n",
    "    print(\"Predicting...\")\n",
    "    preds_x = [regressorX.predict(x) for x in testingDF['Embeddings Hist']]\n",
    "    preds_y = [regressorY.predict(x) for x in testingDF['Embeddings Hist']]\n",
    "    avgedPreds_x = [x.mean() for x in preds_x]\n",
    "    avgedPreds_y = [x.mean() for x in preds_y]\n",
    "    p_x = [x[0] for x in testingDF['Gaze Target XY'].to_list()]\n",
    "    p_y = [x[1] for x in testingDF['Gaze Target XY'].to_list()]\n",
    "    q_x = avgedPreds_x\n",
    "    q_y = avgedPreds_y\n",
    "    score_x = mean_absolute_error(p_x, q_x)\n",
    "    score_y = mean_absolute_error(p_y, q_y)\n",
    "\n",
    "    print(\"Mean euclidean error x:\", score_x, \\\n",
    "        \"\\n\\t Centerimeter error (6.4cm width)\", score_x*6.4)\n",
    "    print(\"Mean euclidean error y:\", score_y, \\\n",
    "        \"\\n\\t Centerimeter error (12.8cm width)\", score_y*12.8)\n",
    "    \n",
    "    print(\"Combined:\", (score_x**2+score_y**2)**.5, \\\n",
    "          \"\\n\\t Centimeters:\", ((score_x*6.4)**2 + (score_y*12.8)**2)**.5)\n",
    "    print(\"model\", regressor)\n",
    "    return score_x,score_y, (p_x, p_y, q_x, q_y)\n",
    "\n",
    "\n",
    "regDF = GAZELdata.copy()\n",
    "i=1\n",
    "testDF = regDF.loc[regDF['Subject'] == i]\n",
    "trainDF = regDF.drop(testDF.index).reset_index()\n",
    "\n",
    "model = ExtraTreesRegressor(n_estimators=100)\n",
    "# regressXYtogether_SingleEmbedThenVote(model, trainDF, testDF)\n",
    "sx, sy, preds = regressXYseparate_SingleEmbedThenVote(model, trainDF, testDF)\n",
    "# classifier_SingleEmbedThenVote(model, trainDF, testDF)\n",
    "\n",
    "\n",
    "\n",
    "\n"
   ]
  },
  {
   "cell_type": "code",
   "execution_count": null,
   "metadata": {},
   "outputs": [],
   "source": [
    "gtx,gty, predx, predy = preds"
   ]
  },
  {
   "cell_type": "code",
   "execution_count": null,
   "metadata": {},
   "outputs": [],
   "source": [
    "xerr = nparr(gtx) - nparr(predx)\n",
    "yerr = nparr(gty) - nparr(predy)"
   ]
  },
  {
   "cell_type": "code",
   "execution_count": null,
   "metadata": {},
   "outputs": [],
   "source": [
    "print(np.std(xerr))\n",
    "xerr.mean()"
   ]
  },
  {
   "cell_type": "code",
   "execution_count": null,
   "metadata": {},
   "outputs": [],
   "source": [
    "np.std(yerr)\n",
    "yerr.mean()"
   ]
  },
  {
   "cell_type": "markdown",
   "metadata": {},
   "source": [
    "# The Machine Begins to Learn Classification"
   ]
  },
  {
   "cell_type": "code",
   "execution_count": null,
   "metadata": {},
   "outputs": [],
   "source": [
    "# List of classifier models\n",
    "from sklearn.neighbors import KNeighborsClassifier,RadiusNeighborsClassifier\n",
    "from sklearn.linear_model import SGDClassifier,LogisticRegression\n",
    "from sklearn.ensemble import ExtraTreesClassifier, RandomForestClassifier\n",
    "from sklearn.svm import SVC, LinearSVC\n",
    "\n",
    "\n",
    "from sklearn.multioutput import MultiOutputClassifier\n",
    "from sklearn.metrics import classification_report\n",
    "\n",
    "from sklearn.metrics import mean_absolute_error,accuracy_score\n",
    "import scipy\n",
    "mode = scipy.stats.mode\n",
    "\n",
    "import copy\n",
    "dcopy = copy.deepcopy\n",
    "\n",
    "# Classification\n",
    "models = [\n",
    "    KNeighborsClassifier(n_neighbors=14),\n",
    "    ExtraTreesClassifier(),\n",
    "    ExtraTreesClassifier(n_estimators=100),\n",
    "    RandomForestClassifier(),\n",
    "    RandomForestClassifier(n_estimators=100),\n",
    "    SGDClassifier(),\n",
    "    LogisticRegression(),\n",
    "    SVC(),\n",
    "    LinearSVC()\n",
    "]\n",
    "\n",
    "#### Splitting data into pairs\n",
    "def getClassPairsFromTable(tbl, together=False): \n",
    "    c = []\n",
    "    gridOrList = []\n",
    "    gazeTargets = []\n",
    "    for i in tbl.index:\n",
    "        embeds = tbl.loc[i, 'Embeddings Hist']\n",
    "        XY = tbl.loc[i, 'Gaze Target XY']\n",
    "#         faceVis = tbl.loc[i, 'Face Detection Hist']\n",
    "        if together:\n",
    "            c.append([embeds[-6:],XY])\n",
    "            gazeTargets.append(tbl.loc[i, 'Gaze Target'])\n",
    "            gridOrList.append(tbl.loc[i, 'Set'])\n",
    "        else:\n",
    "            for j,sample in enumerate(embeds): \n",
    "                # remove samples where face is not visible\n",
    "#                 if faceVis[j] > .9:\n",
    "                c.append([sample, XY])\n",
    "                gazeTargets.append(tbl.loc[i, 'Gaze Target'])\n",
    "                gridOrList.append(tbl.loc[i, 'Set'])\n",
    "    return c,gazeTargets, gridOrList\n"
   ]
  },
  {
   "cell_type": "code",
   "execution_count": null,
   "metadata": {},
   "outputs": [],
   "source": [
    "# Classification \n",
    "# GAZELdata, CALIBdata, ALLdata, postDF\n",
    "def classifier_SingleEmbedThenVote(clf, trainingDF, testingDF):\n",
    "    train, trainGazetargs, trainSet = getClassPairsFromTable(trainingDF, together=False)\n",
    "    train_x = [np.array(x[0]).flatten() for x in train]\n",
    "    train_y = trainGazetargs\n",
    "#     print(train_y)\n",
    "\n",
    "    print(\"Fitting...\")\n",
    "    clf.fit(train_x, train_y)\n",
    "    \n",
    "    # Test on the testing data\n",
    "    print(\"Predicting...\")\n",
    "    voters = [clf.predict(x) for x in testingDF['Embeddings Hist']]\n",
    "    voteOutputs = [mode(x).mode[0] for x in voters]\n",
    "    preds = np.array(voteOutputs)\n",
    "    gt = testingDF['Gaze Target'].to_numpy()\n",
    "    print(\"score\", sum(preds == gt)/len(preds))\n",
    "    print(\"model\", clf)\n",
    "    return sum(preds == gt)/len(preds)\n",
    "\n"
   ]
  },
  {
   "cell_type": "code",
   "execution_count": null,
   "metadata": {},
   "outputs": [],
   "source": [
    "for i in range(9):\n",
    "    print(i)\n",
    "    classDF = GAZELdata.copy()\n",
    "    classDF = classDF.loc[classDF['Grid?']]\n",
    "\n",
    "    testDF = classDF.loc[classDF['Subject'] == i]\n",
    "    trainDF = classDF.drop(testDF.index).reset_index()\n",
    "\n",
    "    model = ExtraTreesClassifier(n_estimators=100)\n",
    "    classifier_SingleEmbedThenVote(model, trainDF, testDF)\n",
    "\n"
   ]
  },
  {
   "cell_type": "code",
   "execution_count": null,
   "metadata": {},
   "outputs": [],
   "source": [
    "# Did i fuck up by doing overlapping labels for the list and grid?\n",
    "classDF = GAZELdata.copy()\n",
    "\n",
    "# classDF.loc[grids, 'Gaze Target'] = classDF.loc[grids, 'Gaze Target'].map(seg2GridCoords)\n",
    "# classDF.loc[lists, 'Gaze Target'] = classDF.loc[lists, 'Gaze Target'].map(lambda x: x+8)\n",
    "\n",
    "# classDF = classDF.loc[np.invert(classDF['Grid?'])]\n",
    "classDF = classDF.loc[classDF['Grid?']]\n",
    "\n",
    "# split = 0.8\n",
    "# trainDF = classDF.sample(frac = split)\n",
    "# testDF = classDF.drop(trainDF.index).reset_index()\n",
    "\n",
    "testDF = classDF.loc[classDF['Subject'] == 1]\n",
    "trainDF = classDF.drop(testDF.index).reset_index()\n",
    "\n",
    "# actualTrainDF = pd.concat([CALIBdata, trainDF], sort=False).reset_index()\n",
    "# model = LinearSVC()\n",
    "# model = KNeighborsClassifier(n_neighbors=14)\n",
    "model = ExtraTreesClassifier(n_estimators=100)\n",
    "\n",
    "classifier_SingleEmbedThenVote(model, trainDF, testDF)\n",
    "\n",
    "\n",
    "\n",
    "\n"
   ]
  },
  {
   "cell_type": "code",
   "execution_count": null,
   "metadata": {},
   "outputs": [],
   "source": [
    "GAZELdata\n"
   ]
  },
  {
   "cell_type": "code",
   "execution_count": null,
   "metadata": {},
   "outputs": [],
   "source": [
    "len(testDF['Embeddings Hist'][0][0])"
   ]
  },
  {
   "cell_type": "code",
   "execution_count": null,
   "metadata": {},
   "outputs": [],
   "source": [
    "########### Grid\n",
    "ETC \n",
    "65.9 grid separate, with calib data added. ETC 100\n",
    "65.4 grid separate, without calib data. ETC 100\n",
    "\n",
    "KNN\n",
    "70 grid sep, w/o calib. Using KNN \n",
    "\n",
    "SVC\n",
    "63 \n",
    "\n",
    "LinearSVC\n",
    "47 \n",
    "\n",
    "\n",
    "########### List\n",
    "54 list without calib, KNN 12\n",
    "49 list without calib, ETC 100\n",
    "49.8 list with calib, labels from grid though. ETC 100           - REDO\n",
    "\n"
   ]
  },
  {
   "cell_type": "code",
   "execution_count": null,
   "metadata": {},
   "outputs": [],
   "source": [
    "np.invert(classDF['Grid?'])\n"
   ]
  },
  {
   "cell_type": "code",
   "execution_count": null,
   "metadata": {},
   "outputs": [],
   "source": []
  },
  {
   "cell_type": "code",
   "execution_count": null,
   "metadata": {},
   "outputs": [],
   "source": [
    "# subData = GAZELdata\n",
    "# gazeGT = subData['Target Gaze'].to_numpy()\n",
    "# gazePred = subData['Detected Gaze'].to_numpy().astype(int)\n"
   ]
  },
  {
   "cell_type": "code",
   "execution_count": null,
   "metadata": {},
   "outputs": [],
   "source": [
    "sum(gazeGT == gazePred)"
   ]
  }
 ],
 "metadata": {
  "kernelspec": {
   "display_name": "Python 3",
   "language": "python",
   "name": "python3"
  },
  "language_info": {
   "codemirror_mode": {
    "name": "ipython",
    "version": 3
   },
   "file_extension": ".py",
   "mimetype": "text/x-python",
   "name": "python",
   "nbconvert_exporter": "python",
   "pygments_lexer": "ipython3",
   "version": "3.6.8"
  }
 },
 "nbformat": 4,
 "nbformat_minor": 5
}
