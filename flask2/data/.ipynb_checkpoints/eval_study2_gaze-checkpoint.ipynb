{
 "cells": [
  {
   "cell_type": "code",
   "execution_count": 31,
   "metadata": {},
   "outputs": [],
   "source": [
    "import pandas as pd\n",
    "import numpy as np\n",
    "from sklearn.ensemble import ExtraTreesRegressor\n",
    "import warnings\n",
    "warnings.filterwarnings('ignore')\n",
    "from sklearn import preprocessing\n",
    "from math import ceil, floor"
   ]
  },
  {
   "cell_type": "code",
   "execution_count": 32,
   "metadata": {},
   "outputs": [],
   "source": [
    "def slide_window(A, win_size, stride, padding = None):\n",
    "    '''Collects windows that slides over a one-dimensional array.\n",
    "\n",
    "    If padding is None, the last (rightmost) window is dropped if it\n",
    "    is incomplete, otherwise it is padded with the padding value.\n",
    "    '''\n",
    "    if win_size <= 0:\n",
    "        raise ValueError('Window size must be positive.')\n",
    "    if not (0 < stride <= win_size):\n",
    "        raise ValueError(f'Stride must satisfy 0 < stride <= {win_size}.')\n",
    "    if not A.base is None:\n",
    "        raise ValueError('Views cannot be slided over!')\n",
    "\n",
    "    n_elems = len(A)\n",
    "    if padding is not None:\n",
    "        n_windows = ceil(n_elems / stride)\n",
    "        A = np.pad(A, (0, n_windows * win_size - n_elems),\n",
    "                   constant_values = padding)\n",
    "    else:\n",
    "        n_windows = floor(n_elems / stride)\n",
    "    shape = n_windows, win_size\n",
    "\n",
    "    elem_size = A.strides[-1]\n",
    "    return np.lib.stride_tricks.as_strided(\n",
    "        A, shape = shape,\n",
    "        strides = (elem_size * stride, elem_size),\n",
    "        writeable = False)\n",
    "\n",
    "def window_np_array(X,Y,win_size,win_stride,padding=0):\n",
    "    X_out = []\n",
    "    Y_out = []\n",
    "    for i in range(len(X)):\n",
    "        out_vec = slide_window(np.array(X[i]),win_size,win_stride)\n",
    "        for j in range(len(out_vec)):\n",
    "            X_out.append(out_vec[j])\n",
    "            Y_out.append(Y[i])\n",
    "    return np.array(X_out), np.array(Y_out)"
   ]
  },
  {
   "cell_type": "code",
   "execution_count": 33,
   "metadata": {},
   "outputs": [],
   "source": [
    "df = pd.read_pickle(\"./gazeldata.pkl\")"
   ]
  },
  {
   "cell_type": "code",
   "execution_count": 34,
   "metadata": {},
   "outputs": [],
   "source": [
    "feat = \"Embeddings Hist\"\n",
    "control = \"Subject\""
   ]
  },
  {
   "cell_type": "code",
   "execution_count": 35,
   "metadata": {},
   "outputs": [],
   "source": [
    "df_group = df.groupby([control])[\"Gaze Target XY\",feat]"
   ]
  },
  {
   "cell_type": "code",
   "execution_count": 36,
   "metadata": {},
   "outputs": [],
   "source": [
    "g_id = list(df_group.groups.keys())"
   ]
  },
  {
   "cell_type": "code",
   "execution_count": null,
   "metadata": {
    "scrolled": true
   },
   "outputs": [
    {
     "name": "stdout",
     "output_type": "stream",
     "text": [
      "Participant 0\n",
      "\t Train shape: (6758, 130) (6758, 2)\n",
      "\t Test shape: (756, 130) (756, 2)\n",
      "\t X_Error 0.3920564373897715 Y_Error 1.1130934744268086\n",
      "Participant 1\n",
      "\t Train shape: (6772, 130) (6772, 2)\n",
      "\t Test shape: (742, 130) (742, 2)\n",
      "\t X_Error 0.48651212938005406 Y_Error 2.713466307277627\n",
      "Participant 2\n",
      "\t Train shape: (6760, 130) (6760, 2)\n",
      "\t Test shape: (754, 130) (754, 2)\n",
      "\t X_Error 0.5291883289124671 Y_Error 1.6494924845269683\n",
      "Participant 3\n",
      "\t Train shape: (6776, 130) (6776, 2)\n",
      "\t Test shape: (738, 130) (738, 2)\n",
      "\t X_Error 0.5155844625112919 Y_Error 2.8291093044263764\n",
      "Participant 4\n",
      "\t Train shape: (6758, 130) (6758, 2)\n",
      "\t Test shape: (756, 130) (756, 2)\n",
      "\t X_Error 0.752183421516754 Y_Error 1.025911816578483\n",
      "Participant 5\n",
      "\t Train shape: (6764, 130) (6764, 2)\n",
      "\t Test shape: (750, 130) (750, 2)\n",
      "\t X_Error 0.5397760000000001 Y_Error 2.5145813333333358\n",
      "Participant 6\n",
      "\t Train shape: (6758, 130) (6758, 2)\n",
      "\t Test shape: (756, 130) (756, 2)\n",
      "\t X_Error 0.5982081128747798 Y_Error 1.716500881834216\n",
      "Participant 7\n",
      "\t Train shape: (6760, 130) (6760, 2)\n",
      "\t Test shape: (754, 130) (754, 2)\n",
      "\t X_Error 0.42332802829354554 Y_Error 1.515487179487181\n",
      "Participant 8\n",
      "\t Train shape: (6760, 130) (6760, 2)\n",
      "\t Test shape: (754, 130) (754, 2)\n"
     ]
    }
   ],
   "source": [
    "feature_len= 26\n",
    "n_windows = 5\n",
    "window_size = n_windows * feature_len\n",
    "stride_size = window_size\n",
    "\n",
    "Y_OUT, Y_GT = None, None\n",
    "\n",
    "for i in range(len(g_id)):\n",
    "    \n",
    "    print(\"Participant\",g_id[i])\n",
    "    \n",
    "    X_train, Y_train, X_test, Y_test = None, None, None, None\n",
    "    \n",
    "    for j in range(len(g_id)):\n",
    "        df_extract = df_group.get_group(g_id[j])\n",
    "        x = np.array(df_extract[feat].tolist())\n",
    "        y = np.array(df_extract[\"Gaze Target XY\"].tolist())\n",
    "        if g_id[i] == g_id[j]:\n",
    "            X_test = x\n",
    "            Y_test = y\n",
    "        else:\n",
    "            if X_train is None:\n",
    "                X_train = x\n",
    "                Y_train = y\n",
    "            else:\n",
    "                X_train = np.vstack((X_train,x))\n",
    "                Y_train = np.vstack((Y_train,y))\n",
    "                \n",
    "    X_train = np.nan_to_num(X_train)\n",
    "    X_test = np.nan_to_num(X_test)\n",
    "    \n",
    "    X_train = X_train.reshape(X_train.shape[0],X_train.shape[1]*X_train.shape[2])\n",
    "    X_test = X_test.reshape(X_test.shape[0],X_test.shape[1]*X_test.shape[2])\n",
    "    \n",
    "    X_train, Y_train = window_np_array(X_train,Y_train,win_size=window_size,win_stride=stride_size)\n",
    "    X_test, Y_test = window_np_array(X_test,Y_test,win_size=window_size,win_stride=stride_size)\n",
    "    \n",
    "    print(\"\\t Train shape:\",X_train.shape,Y_train.shape)\n",
    "    print(\"\\t Test shape:\",X_test.shape,Y_test.shape)\n",
    "    \n",
    "    min_max_scaler_x = preprocessing.MinMaxScaler()\n",
    "    X_train = min_max_scaler_x.fit_transform(X_train)\n",
    "    X_test = min_max_scaler_x.transform(X_test)\n",
    "    \n",
    "    clf = ExtraTreesRegressor(n_estimators=100)\n",
    "    \n",
    "    clf.fit(X_train,Y_train)\n",
    "    \n",
    "    Y_pred = clf.predict(X_test)\n",
    "    \n",
    "    \n",
    "    if Y_OUT is None:\n",
    "        Y_OUT = Y_pred\n",
    "        Y_GT = Y_test\n",
    "    else:\n",
    "        Y_OUT = np.vstack((Y_OUT,Y_pred))\n",
    "        Y_GT = np.vstack((Y_GT,Y_test))\n",
    "    \n",
    "    Y_err = abs(Y_pred - Y_test)\n",
    "    x_err = np.mean(Y_err,axis=0)[0] * 6.4\n",
    "    y_err = np.mean(Y_err,axis=0)[1] * 12.8\n",
    "    \n",
    "    print(\"\\t X_Error\",x_err,\"Y_Error\",y_err)\n"
   ]
  },
  {
   "cell_type": "code",
   "execution_count": null,
   "metadata": {},
   "outputs": [],
   "source": [
    "Y_OUT = Y_OUT * [6.4, 12.8]\n",
    "Y_GT = Y_GT * [6.4, 12.8]\n",
    "\n",
    "Y_err = abs(Y_OUT - Y_GT)\n",
    "x_err = np.mean(Y_err,axis=0)[0] \n",
    "y_err = np.mean(Y_err,axis=0)[1]\n",
    "\n",
    "print(\"X Error\",x_err,\"Y Error\",y_err)"
   ]
  },
  {
   "cell_type": "code",
   "execution_count": null,
   "metadata": {},
   "outputs": [],
   "source": [
    "from scipy.spatial import distance\n",
    "\n",
    "total_err = []\n",
    "for i in range(len(Y_OUT)):\n",
    "    dist = distance.euclidean(Y_OUT[i],Y_GT[i])\n",
    "    total_err.append(dist)\n",
    "print(\"Total Eucilidean Error\",np.mean(total_err),\"SD\",np.std(total_err))"
   ]
  },
  {
   "cell_type": "code",
   "execution_count": null,
   "metadata": {},
   "outputs": [],
   "source": []
  },
  {
   "cell_type": "code",
   "execution_count": null,
   "metadata": {},
   "outputs": [],
   "source": []
  },
  {
   "cell_type": "code",
   "execution_count": null,
   "metadata": {},
   "outputs": [],
   "source": []
  },
  {
   "cell_type": "code",
   "execution_count": null,
   "metadata": {},
   "outputs": [],
   "source": []
  },
  {
   "cell_type": "code",
   "execution_count": null,
   "metadata": {},
   "outputs": [],
   "source": []
  },
  {
   "cell_type": "code",
   "execution_count": null,
   "metadata": {},
   "outputs": [],
   "source": []
  },
  {
   "cell_type": "code",
   "execution_count": null,
   "metadata": {},
   "outputs": [],
   "source": []
  },
  {
   "cell_type": "code",
   "execution_count": null,
   "metadata": {},
   "outputs": [],
   "source": []
  },
  {
   "cell_type": "code",
   "execution_count": null,
   "metadata": {},
   "outputs": [],
   "source": []
  },
  {
   "cell_type": "code",
   "execution_count": null,
   "metadata": {},
   "outputs": [],
   "source": []
  },
  {
   "cell_type": "code",
   "execution_count": null,
   "metadata": {},
   "outputs": [],
   "source": []
  },
  {
   "cell_type": "code",
   "execution_count": null,
   "metadata": {},
   "outputs": [],
   "source": []
  },
  {
   "cell_type": "code",
   "execution_count": null,
   "metadata": {},
   "outputs": [],
   "source": []
  },
  {
   "cell_type": "code",
   "execution_count": null,
   "metadata": {},
   "outputs": [],
   "source": []
  }
 ],
 "metadata": {
  "kernelspec": {
   "display_name": "Python 3",
   "language": "python",
   "name": "python3"
  },
  "language_info": {
   "codemirror_mode": {
    "name": "ipython",
    "version": 3
   },
   "file_extension": ".py",
   "mimetype": "text/x-python",
   "name": "python",
   "nbconvert_exporter": "python",
   "pygments_lexer": "ipython3",
   "version": "3.8.5"
  }
 },
 "nbformat": 4,
 "nbformat_minor": 4
}
