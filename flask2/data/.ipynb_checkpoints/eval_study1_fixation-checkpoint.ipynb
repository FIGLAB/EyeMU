{
 "cells": [
  {
   "cell_type": "code",
   "execution_count": 28,
   "metadata": {},
   "outputs": [],
   "source": [
    "import pandas as pd\n",
    "import numpy as np\n",
    "from sklearn.ensemble import ExtraTreesClassifier\n",
    "import warnings\n",
    "warnings.filterwarnings('ignore')\n",
    "from sklearn import preprocessing\n",
    "from sklearn.metrics import accuracy_score\n",
    "from sklearn.neural_network import MLPClassifier"
   ]
  },
  {
   "cell_type": "code",
   "execution_count": 29,
   "metadata": {},
   "outputs": [],
   "source": [
    "def chunk_filter_data(X,Y,chunk_size,train=False):\n",
    "    stride = 1\n",
    "    X_out = []\n",
    "    Y_out = []\n",
    "    for i in range(0,len(X),stride):\n",
    "        x = X[i:i+chunk_size]\n",
    "        y = Y[i:i+chunk_size]\n",
    "        if x.shape[0] != chunk_size:\n",
    "            continue\n",
    "        std = np.std(x,axis=0).shape\n",
    "        fvec = x.flatten()\n",
    "#         fvec = std\n",
    "        if train:\n",
    "            mean = np.mean(y)\n",
    "            if mean > 0.5:\n",
    "                Y_out.append(1)\n",
    "                X_out.append(fvec)\n",
    "            elif mean < 0.5:\n",
    "                Y_out.append(0)\n",
    "                X_out.append(fvec)\n",
    "        else:\n",
    "            if (np.all(y == y[0])) == False:\n",
    "                continue\n",
    "            Y_out.append(y[0])\n",
    "            X_out.append(fvec)\n",
    "    return np.array(X_out), np.array(Y_out)"
   ]
  },
  {
   "cell_type": "code",
   "execution_count": 30,
   "metadata": {},
   "outputs": [],
   "source": [
    "df = pd.read_pickle(\"./calibdata.pkl\")"
   ]
  },
  {
   "cell_type": "code",
   "execution_count": 31,
   "metadata": {},
   "outputs": [],
   "source": [
    "continous = np.mean(np.array(df[\"Gaze Target XY\"].values.tolist()),axis=1)\n",
    "fixation = [0]\n",
    "for i in range(1,len(continous)):\n",
    "    fixation.append(continous[i] - continous[i-1])\n",
    "for i in range(0,len(fixation)):\n",
    "    if fixation[i] == 0:\n",
    "        fixation[i] = True\n",
    "    else:\n",
    "        fixation[i] = False\n",
    "df['fixation'] = fixation"
   ]
  },
  {
   "cell_type": "code",
   "execution_count": 32,
   "metadata": {},
   "outputs": [],
   "source": [
    "feat = \"Embeddings Hist\"\n",
    "control = \"Subject\"\n",
    "df_group = df.groupby([control])[\"fixation\",feat]\n",
    "g_id = list(df_group.groups.keys())"
   ]
  },
  {
   "cell_type": "code",
   "execution_count": 33,
   "metadata": {
    "scrolled": true
   },
   "outputs": [
    {
     "name": "stdout",
     "output_type": "stream",
     "text": [
      "Participant 0\n",
      "\t Train shape: (840, 390) (840,)\n",
      "\t Test shape: (93, 390) (93,)\n",
      "\t Accuracy 0.6021505376344086\n",
      "Participant 1\n",
      "\t Train shape: (840, 390) (840,)\n",
      "\t Test shape: (93, 390) (93,)\n",
      "\t Accuracy 0.5483870967741935\n",
      "Participant 2\n",
      "\t Train shape: (840, 390) (840,)\n",
      "\t Test shape: (93, 390) (93,)\n",
      "\t Accuracy 0.5698924731182796\n",
      "Participant 3\n",
      "\t Train shape: (840, 390) (840,)\n",
      "\t Test shape: (93, 390) (93,)\n",
      "\t Accuracy 0.5483870967741935\n",
      "Participant 4\n",
      "\t Train shape: (840, 390) (840,)\n",
      "\t Test shape: (93, 390) (93,)\n",
      "\t Accuracy 0.7741935483870968\n",
      "Participant 5\n",
      "\t Train shape: (840, 390) (840,)\n",
      "\t Test shape: (93, 390) (93,)\n",
      "\t Accuracy 0.5591397849462365\n",
      "Participant 6\n",
      "\t Train shape: (840, 390) (840,)\n",
      "\t Test shape: (93, 390) (93,)\n",
      "\t Accuracy 0.5913978494623656\n",
      "Participant 7\n",
      "\t Train shape: (840, 390) (840,)\n",
      "\t Test shape: (93, 390) (93,)\n",
      "\t Accuracy 0.6021505376344086\n",
      "Participant 8\n",
      "\t Train shape: (840, 390) (840,)\n",
      "\t Test shape: (93, 390) (93,)\n",
      "\t Accuracy 0.5698924731182796\n",
      "Participant 9\n",
      "\t Train shape: (840, 390) (840,)\n",
      "\t Test shape: (93, 390) (93,)\n",
      "\t Accuracy 0.6989247311827957\n"
     ]
    }
   ],
   "source": [
    "chunk_size = 15\n",
    "\n",
    "Y_OUT, Y_GT = None, None\n",
    "acc = []\n",
    "\n",
    "for i in range(len(g_id)):\n",
    "    \n",
    "    print(\"Participant\",g_id[i])\n",
    "    \n",
    "    X_train, Y_train, X_test, Y_test = None, None, None, None\n",
    "    \n",
    "    for j in range(len(g_id)):\n",
    "        \n",
    "        df_extract = df_group.get_group(g_id[j])\n",
    "        x = np.array(df_extract[feat].tolist())\n",
    "        y = np.array(df_extract[\"fixation\"].tolist())\n",
    "        x = x.reshape(x.shape[0],x.shape[1]*x.shape[2])\n",
    "        y = y.reshape(-1,1)\n",
    "        if g_id[i] == g_id[j]:\n",
    "            X_test = x\n",
    "            Y_test = y\n",
    "        else:\n",
    "            if X_train is None:\n",
    "                X_train = x\n",
    "                Y_train = y\n",
    "            else:\n",
    "                X_train = np.vstack((X_train,x))\n",
    "                Y_train = np.vstack((Y_train,y))\n",
    "        \n",
    "    \n",
    "    X_train = np.nan_to_num(X_train)\n",
    "    X_test = np.nan_to_num(X_test)\n",
    "    \n",
    "    X_train, Y_train = chunk_filter_data(X_train,Y_train,chunk_size,train=True)\n",
    "    X_test, Y_test = chunk_filter_data(X_test,Y_test,chunk_size,train=True)\n",
    "\n",
    "    print(\"\\t Train shape:\",X_train.shape,Y_train.shape)\n",
    "    print(\"\\t Test shape:\",X_test.shape,Y_test.shape)\n",
    "    \n",
    "    min_max_scaler_x = preprocessing.MinMaxScaler()\n",
    "    X_train = min_max_scaler_x.fit_transform(X_train)\n",
    "    X_test = min_max_scaler_x.transform(X_test)\n",
    "    \n",
    "#     clf = ExtraTreesClassifier(n_estimators=100,class_weight='balanced')\n",
    "    clf = MLPClassifier()\n",
    "    \n",
    "    clf.fit(X_train,Y_train)\n",
    "    \n",
    "    Y_pred = clf.predict(X_test).reshape(-1,1)\n",
    "    \n",
    "    if Y_OUT is None:\n",
    "        Y_OUT = Y_pred\n",
    "        Y_GT = Y_test\n",
    "    else:\n",
    "        Y_OUT = np.vstack((Y_OUT,Y_pred))\n",
    "        Y_GT = np.vstack((Y_GT,Y_test))\n",
    "    \n",
    "    print(\"\\t Accuracy\",accuracy_score(Y_test,Y_pred))\n",
    "    acc.append(accuracy_score(Y_test,Y_pred))\n"
   ]
  },
  {
   "cell_type": "code",
   "execution_count": 34,
   "metadata": {},
   "outputs": [
    {
     "name": "stdout",
     "output_type": "stream",
     "text": [
      "Accuracy 0.6064516129032258 SD 0.06971855947289174\n"
     ]
    }
   ],
   "source": [
    "print(\"Accuracy\",np.mean(acc),\"SD\",np.std(acc))"
   ]
  },
  {
   "cell_type": "code",
   "execution_count": 27,
   "metadata": {},
   "outputs": [
    {
     "name": "stdout",
     "output_type": "stream",
     "text": [
      "Baseline acc 0.5721500721500722\n"
     ]
    }
   ],
   "source": [
    "print(\"Baseline acc\",np.mean(Y_test))"
   ]
  },
  {
   "cell_type": "code",
   "execution_count": null,
   "metadata": {},
   "outputs": [],
   "source": []
  },
  {
   "cell_type": "code",
   "execution_count": null,
   "metadata": {},
   "outputs": [],
   "source": []
  },
  {
   "cell_type": "code",
   "execution_count": null,
   "metadata": {},
   "outputs": [],
   "source": []
  },
  {
   "cell_type": "code",
   "execution_count": null,
   "metadata": {},
   "outputs": [],
   "source": []
  },
  {
   "cell_type": "code",
   "execution_count": null,
   "metadata": {},
   "outputs": [],
   "source": []
  },
  {
   "cell_type": "code",
   "execution_count": null,
   "metadata": {},
   "outputs": [],
   "source": []
  },
  {
   "cell_type": "code",
   "execution_count": null,
   "metadata": {},
   "outputs": [],
   "source": []
  },
  {
   "cell_type": "code",
   "execution_count": null,
   "metadata": {},
   "outputs": [],
   "source": []
  },
  {
   "cell_type": "code",
   "execution_count": null,
   "metadata": {},
   "outputs": [],
   "source": []
  },
  {
   "cell_type": "code",
   "execution_count": null,
   "metadata": {},
   "outputs": [],
   "source": [
    "\n",
    "\n"
   ]
  },
  {
   "cell_type": "code",
   "execution_count": null,
   "metadata": {},
   "outputs": [],
   "source": []
  },
  {
   "cell_type": "code",
   "execution_count": null,
   "metadata": {},
   "outputs": [],
   "source": []
  },
  {
   "cell_type": "code",
   "execution_count": null,
   "metadata": {},
   "outputs": [],
   "source": []
  },
  {
   "cell_type": "code",
   "execution_count": null,
   "metadata": {},
   "outputs": [],
   "source": []
  },
  {
   "cell_type": "code",
   "execution_count": null,
   "metadata": {},
   "outputs": [],
   "source": []
  }
 ],
 "metadata": {
  "kernelspec": {
   "display_name": "Python 3",
   "language": "python",
   "name": "python3"
  },
  "language_info": {
   "codemirror_mode": {
    "name": "ipython",
    "version": 3
   },
   "file_extension": ".py",
   "mimetype": "text/x-python",
   "name": "python",
   "nbconvert_exporter": "python",
   "pygments_lexer": "ipython3",
   "version": "3.8.5"
  }
 },
 "nbformat": 4,
 "nbformat_minor": 4
}
